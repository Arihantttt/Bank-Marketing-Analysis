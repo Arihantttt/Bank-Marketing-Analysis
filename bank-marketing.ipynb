{
 "cells": [
  {
   "cell_type": "markdown",
   "id": "aa73d728",
   "metadata": {
    "papermill": {
     "duration": 0.105256,
     "end_time": "2022-05-19T19:04:42.830279",
     "exception": false,
     "start_time": "2022-05-19T19:04:42.725023",
     "status": "completed"
    },
    "tags": []
   },
   "source": [
    "## Part I: Supervised Learning \n"
   ]
  },
  {
   "cell_type": "code",
   "execution_count": 4,
   "id": "cc860115",
   "metadata": {
    "execution": {
     "iopub.execute_input": "2022-05-19T19:04:43.037059Z",
     "iopub.status.busy": "2022-05-19T19:04:43.036327Z",
     "iopub.status.idle": "2022-05-19T19:04:46.404973Z",
     "shell.execute_reply": "2022-05-19T19:04:46.403408Z"
    },
    "papermill": {
     "duration": 3.475232,
     "end_time": "2022-05-19T19:04:46.407939",
     "exception": false,
     "start_time": "2022-05-19T19:04:42.932707",
     "status": "completed"
    },
    "tags": []
   },
   "outputs": [],
   "source": [
    "import numpy as np\n",
    "import pandas as pd\n",
    "import matplotlib.pyplot as plt\n",
    "import seaborn as sns\n",
    "import statsmodels.api as sm\n",
    "from statsmodels.formula.api import ols\n",
    "from warnings import filterwarnings\n",
    "from statsmodels.stats.multicomp import pairwise_tukeyhsd\n",
    "filterwarnings('ignore')\n",
    "plt.rcParams['figure.figsize'] = (15,8)\n",
    "from scipy.stats import chi2, chi2_contingency\n",
    "import scipy\n",
    "from sklearn.metrics import classification_report\n",
    "from scipy import stats\n",
    "from sklearn.ensemble import RandomForestClassifier\n",
    "from sklearn.feature_selection import SelectFromModel\n",
    "from sklearn.model_selection import train_test_split\n",
    "from sklearn.utils import resample"
   ]
  },
  {
   "cell_type": "code",
   "execution_count": 5,
   "id": "8afc5ba8",
   "metadata": {
    "execution": {
     "iopub.execute_input": "2022-05-19T19:04:46.616048Z",
     "iopub.status.busy": "2022-05-19T19:04:46.615806Z",
     "iopub.status.idle": "2022-05-19T19:04:46.998495Z",
     "shell.execute_reply": "2022-05-19T19:04:46.997212Z"
    },
    "papermill": {
     "duration": 0.490453,
     "end_time": "2022-05-19T19:04:47.001750",
     "exception": false,
     "start_time": "2022-05-19T19:04:46.511297",
     "status": "completed"
    },
    "tags": []
   },
   "outputs": [
    {
     "data": {
      "text/html": [
       "<div>\n",
       "<style scoped>\n",
       "    .dataframe tbody tr th:only-of-type {\n",
       "        vertical-align: middle;\n",
       "    }\n",
       "\n",
       "    .dataframe tbody tr th {\n",
       "        vertical-align: top;\n",
       "    }\n",
       "\n",
       "    .dataframe thead th {\n",
       "        text-align: right;\n",
       "    }\n",
       "</style>\n",
       "<table border=\"1\" class=\"dataframe\">\n",
       "  <thead>\n",
       "    <tr style=\"text-align: right;\">\n",
       "      <th></th>\n",
       "      <th>age</th>\n",
       "      <th>job</th>\n",
       "      <th>marital</th>\n",
       "      <th>education</th>\n",
       "      <th>default</th>\n",
       "      <th>housing</th>\n",
       "      <th>loan</th>\n",
       "      <th>contact</th>\n",
       "      <th>month</th>\n",
       "      <th>day_of_week</th>\n",
       "      <th>duration</th>\n",
       "      <th>campaign</th>\n",
       "      <th>pdays</th>\n",
       "      <th>previous</th>\n",
       "      <th>poutcome</th>\n",
       "      <th>emp.var.rate</th>\n",
       "      <th>cons.price.idx</th>\n",
       "      <th>cons.conf.idx</th>\n",
       "      <th>euribor3m</th>\n",
       "      <th>nr.employed</th>\n",
       "      <th>y</th>\n",
       "    </tr>\n",
       "  </thead>\n",
       "  <tbody>\n",
       "    <tr>\n",
       "      <th>0</th>\n",
       "      <td>56</td>\n",
       "      <td>housemaid</td>\n",
       "      <td>married</td>\n",
       "      <td>basic.4y</td>\n",
       "      <td>no</td>\n",
       "      <td>no</td>\n",
       "      <td>no</td>\n",
       "      <td>telephone</td>\n",
       "      <td>may</td>\n",
       "      <td>mon</td>\n",
       "      <td>261</td>\n",
       "      <td>1</td>\n",
       "      <td>999</td>\n",
       "      <td>0</td>\n",
       "      <td>nonexistent</td>\n",
       "      <td>1.1</td>\n",
       "      <td>93.994</td>\n",
       "      <td>-36.4</td>\n",
       "      <td>4.857</td>\n",
       "      <td>5191.0</td>\n",
       "      <td>no</td>\n",
       "    </tr>\n",
       "    <tr>\n",
       "      <th>1</th>\n",
       "      <td>57</td>\n",
       "      <td>services</td>\n",
       "      <td>married</td>\n",
       "      <td>high.school</td>\n",
       "      <td>unknown</td>\n",
       "      <td>no</td>\n",
       "      <td>no</td>\n",
       "      <td>telephone</td>\n",
       "      <td>may</td>\n",
       "      <td>mon</td>\n",
       "      <td>149</td>\n",
       "      <td>1</td>\n",
       "      <td>999</td>\n",
       "      <td>0</td>\n",
       "      <td>nonexistent</td>\n",
       "      <td>1.1</td>\n",
       "      <td>93.994</td>\n",
       "      <td>-36.4</td>\n",
       "      <td>4.857</td>\n",
       "      <td>5191.0</td>\n",
       "      <td>no</td>\n",
       "    </tr>\n",
       "    <tr>\n",
       "      <th>2</th>\n",
       "      <td>37</td>\n",
       "      <td>services</td>\n",
       "      <td>married</td>\n",
       "      <td>high.school</td>\n",
       "      <td>no</td>\n",
       "      <td>yes</td>\n",
       "      <td>no</td>\n",
       "      <td>telephone</td>\n",
       "      <td>may</td>\n",
       "      <td>mon</td>\n",
       "      <td>226</td>\n",
       "      <td>1</td>\n",
       "      <td>999</td>\n",
       "      <td>0</td>\n",
       "      <td>nonexistent</td>\n",
       "      <td>1.1</td>\n",
       "      <td>93.994</td>\n",
       "      <td>-36.4</td>\n",
       "      <td>4.857</td>\n",
       "      <td>5191.0</td>\n",
       "      <td>no</td>\n",
       "    </tr>\n",
       "    <tr>\n",
       "      <th>3</th>\n",
       "      <td>40</td>\n",
       "      <td>admin.</td>\n",
       "      <td>married</td>\n",
       "      <td>basic.6y</td>\n",
       "      <td>no</td>\n",
       "      <td>no</td>\n",
       "      <td>no</td>\n",
       "      <td>telephone</td>\n",
       "      <td>may</td>\n",
       "      <td>mon</td>\n",
       "      <td>151</td>\n",
       "      <td>1</td>\n",
       "      <td>999</td>\n",
       "      <td>0</td>\n",
       "      <td>nonexistent</td>\n",
       "      <td>1.1</td>\n",
       "      <td>93.994</td>\n",
       "      <td>-36.4</td>\n",
       "      <td>4.857</td>\n",
       "      <td>5191.0</td>\n",
       "      <td>no</td>\n",
       "    </tr>\n",
       "    <tr>\n",
       "      <th>4</th>\n",
       "      <td>56</td>\n",
       "      <td>services</td>\n",
       "      <td>married</td>\n",
       "      <td>high.school</td>\n",
       "      <td>no</td>\n",
       "      <td>no</td>\n",
       "      <td>yes</td>\n",
       "      <td>telephone</td>\n",
       "      <td>may</td>\n",
       "      <td>mon</td>\n",
       "      <td>307</td>\n",
       "      <td>1</td>\n",
       "      <td>999</td>\n",
       "      <td>0</td>\n",
       "      <td>nonexistent</td>\n",
       "      <td>1.1</td>\n",
       "      <td>93.994</td>\n",
       "      <td>-36.4</td>\n",
       "      <td>4.857</td>\n",
       "      <td>5191.0</td>\n",
       "      <td>no</td>\n",
       "    </tr>\n",
       "    <tr>\n",
       "      <th>...</th>\n",
       "      <td>...</td>\n",
       "      <td>...</td>\n",
       "      <td>...</td>\n",
       "      <td>...</td>\n",
       "      <td>...</td>\n",
       "      <td>...</td>\n",
       "      <td>...</td>\n",
       "      <td>...</td>\n",
       "      <td>...</td>\n",
       "      <td>...</td>\n",
       "      <td>...</td>\n",
       "      <td>...</td>\n",
       "      <td>...</td>\n",
       "      <td>...</td>\n",
       "      <td>...</td>\n",
       "      <td>...</td>\n",
       "      <td>...</td>\n",
       "      <td>...</td>\n",
       "      <td>...</td>\n",
       "      <td>...</td>\n",
       "      <td>...</td>\n",
       "    </tr>\n",
       "    <tr>\n",
       "      <th>41183</th>\n",
       "      <td>73</td>\n",
       "      <td>retired</td>\n",
       "      <td>married</td>\n",
       "      <td>professional.course</td>\n",
       "      <td>no</td>\n",
       "      <td>yes</td>\n",
       "      <td>no</td>\n",
       "      <td>cellular</td>\n",
       "      <td>nov</td>\n",
       "      <td>fri</td>\n",
       "      <td>334</td>\n",
       "      <td>1</td>\n",
       "      <td>999</td>\n",
       "      <td>0</td>\n",
       "      <td>nonexistent</td>\n",
       "      <td>-1.1</td>\n",
       "      <td>94.767</td>\n",
       "      <td>-50.8</td>\n",
       "      <td>1.028</td>\n",
       "      <td>4963.6</td>\n",
       "      <td>yes</td>\n",
       "    </tr>\n",
       "    <tr>\n",
       "      <th>41184</th>\n",
       "      <td>46</td>\n",
       "      <td>blue-collar</td>\n",
       "      <td>married</td>\n",
       "      <td>professional.course</td>\n",
       "      <td>no</td>\n",
       "      <td>no</td>\n",
       "      <td>no</td>\n",
       "      <td>cellular</td>\n",
       "      <td>nov</td>\n",
       "      <td>fri</td>\n",
       "      <td>383</td>\n",
       "      <td>1</td>\n",
       "      <td>999</td>\n",
       "      <td>0</td>\n",
       "      <td>nonexistent</td>\n",
       "      <td>-1.1</td>\n",
       "      <td>94.767</td>\n",
       "      <td>-50.8</td>\n",
       "      <td>1.028</td>\n",
       "      <td>4963.6</td>\n",
       "      <td>no</td>\n",
       "    </tr>\n",
       "    <tr>\n",
       "      <th>41185</th>\n",
       "      <td>56</td>\n",
       "      <td>retired</td>\n",
       "      <td>married</td>\n",
       "      <td>university.degree</td>\n",
       "      <td>no</td>\n",
       "      <td>yes</td>\n",
       "      <td>no</td>\n",
       "      <td>cellular</td>\n",
       "      <td>nov</td>\n",
       "      <td>fri</td>\n",
       "      <td>189</td>\n",
       "      <td>2</td>\n",
       "      <td>999</td>\n",
       "      <td>0</td>\n",
       "      <td>nonexistent</td>\n",
       "      <td>-1.1</td>\n",
       "      <td>94.767</td>\n",
       "      <td>-50.8</td>\n",
       "      <td>1.028</td>\n",
       "      <td>4963.6</td>\n",
       "      <td>no</td>\n",
       "    </tr>\n",
       "    <tr>\n",
       "      <th>41186</th>\n",
       "      <td>44</td>\n",
       "      <td>technician</td>\n",
       "      <td>married</td>\n",
       "      <td>professional.course</td>\n",
       "      <td>no</td>\n",
       "      <td>no</td>\n",
       "      <td>no</td>\n",
       "      <td>cellular</td>\n",
       "      <td>nov</td>\n",
       "      <td>fri</td>\n",
       "      <td>442</td>\n",
       "      <td>1</td>\n",
       "      <td>999</td>\n",
       "      <td>0</td>\n",
       "      <td>nonexistent</td>\n",
       "      <td>-1.1</td>\n",
       "      <td>94.767</td>\n",
       "      <td>-50.8</td>\n",
       "      <td>1.028</td>\n",
       "      <td>4963.6</td>\n",
       "      <td>yes</td>\n",
       "    </tr>\n",
       "    <tr>\n",
       "      <th>41187</th>\n",
       "      <td>74</td>\n",
       "      <td>retired</td>\n",
       "      <td>married</td>\n",
       "      <td>professional.course</td>\n",
       "      <td>no</td>\n",
       "      <td>yes</td>\n",
       "      <td>no</td>\n",
       "      <td>cellular</td>\n",
       "      <td>nov</td>\n",
       "      <td>fri</td>\n",
       "      <td>239</td>\n",
       "      <td>3</td>\n",
       "      <td>999</td>\n",
       "      <td>1</td>\n",
       "      <td>failure</td>\n",
       "      <td>-1.1</td>\n",
       "      <td>94.767</td>\n",
       "      <td>-50.8</td>\n",
       "      <td>1.028</td>\n",
       "      <td>4963.6</td>\n",
       "      <td>no</td>\n",
       "    </tr>\n",
       "  </tbody>\n",
       "</table>\n",
       "<p>41188 rows × 21 columns</p>\n",
       "</div>"
      ],
      "text/plain": [
       "       age          job  marital            education  default housing loan  \\\n",
       "0       56    housemaid  married             basic.4y       no      no   no   \n",
       "1       57     services  married          high.school  unknown      no   no   \n",
       "2       37     services  married          high.school       no     yes   no   \n",
       "3       40       admin.  married             basic.6y       no      no   no   \n",
       "4       56     services  married          high.school       no      no  yes   \n",
       "...    ...          ...      ...                  ...      ...     ...  ...   \n",
       "41183   73      retired  married  professional.course       no     yes   no   \n",
       "41184   46  blue-collar  married  professional.course       no      no   no   \n",
       "41185   56      retired  married    university.degree       no     yes   no   \n",
       "41186   44   technician  married  professional.course       no      no   no   \n",
       "41187   74      retired  married  professional.course       no     yes   no   \n",
       "\n",
       "         contact month day_of_week  duration  campaign  pdays  previous  \\\n",
       "0      telephone   may         mon       261         1    999         0   \n",
       "1      telephone   may         mon       149         1    999         0   \n",
       "2      telephone   may         mon       226         1    999         0   \n",
       "3      telephone   may         mon       151         1    999         0   \n",
       "4      telephone   may         mon       307         1    999         0   \n",
       "...          ...   ...         ...       ...       ...    ...       ...   \n",
       "41183   cellular   nov         fri       334         1    999         0   \n",
       "41184   cellular   nov         fri       383         1    999         0   \n",
       "41185   cellular   nov         fri       189         2    999         0   \n",
       "41186   cellular   nov         fri       442         1    999         0   \n",
       "41187   cellular   nov         fri       239         3    999         1   \n",
       "\n",
       "          poutcome  emp.var.rate  cons.price.idx  cons.conf.idx  euribor3m  \\\n",
       "0      nonexistent           1.1          93.994          -36.4      4.857   \n",
       "1      nonexistent           1.1          93.994          -36.4      4.857   \n",
       "2      nonexistent           1.1          93.994          -36.4      4.857   \n",
       "3      nonexistent           1.1          93.994          -36.4      4.857   \n",
       "4      nonexistent           1.1          93.994          -36.4      4.857   \n",
       "...            ...           ...             ...            ...        ...   \n",
       "41183  nonexistent          -1.1          94.767          -50.8      1.028   \n",
       "41184  nonexistent          -1.1          94.767          -50.8      1.028   \n",
       "41185  nonexistent          -1.1          94.767          -50.8      1.028   \n",
       "41186  nonexistent          -1.1          94.767          -50.8      1.028   \n",
       "41187      failure          -1.1          94.767          -50.8      1.028   \n",
       "\n",
       "       nr.employed    y  \n",
       "0           5191.0   no  \n",
       "1           5191.0   no  \n",
       "2           5191.0   no  \n",
       "3           5191.0   no  \n",
       "4           5191.0   no  \n",
       "...            ...  ...  \n",
       "41183       4963.6  yes  \n",
       "41184       4963.6   no  \n",
       "41185       4963.6   no  \n",
       "41186       4963.6  yes  \n",
       "41187       4963.6   no  \n",
       "\n",
       "[41188 rows x 21 columns]"
      ]
     },
     "execution_count": 5,
     "metadata": {},
     "output_type": "execute_result"
    }
   ],
   "source": [
    "data=pd.read_csv(\"C:/Users/Arihant/Machine Learning/Projects/Data/Bank-Marketing-Analysis/bank-additional-full.csv\",delimiter=';')\n",
    "pd.options.display.max_columns=100\n",
    "\n",
    "data"
   ]
  },
  {
   "cell_type": "code",
   "execution_count": 6,
   "id": "d175194b",
   "metadata": {
    "execution": {
     "iopub.execute_input": "2022-05-19T19:04:47.213794Z",
     "iopub.status.busy": "2022-05-19T19:04:47.213306Z",
     "iopub.status.idle": "2022-05-19T19:04:47.289583Z",
     "shell.execute_reply": "2022-05-19T19:04:47.287423Z"
    },
    "papermill": {
     "duration": 0.18523,
     "end_time": "2022-05-19T19:04:47.292300",
     "exception": false,
     "start_time": "2022-05-19T19:04:47.107070",
     "status": "completed"
    },
    "tags": []
   },
   "outputs": [
    {
     "name": "stdout",
     "output_type": "stream",
     "text": [
      "<class 'pandas.core.frame.DataFrame'>\n",
      "RangeIndex: 41188 entries, 0 to 41187\n",
      "Data columns (total 21 columns):\n",
      " #   Column          Non-Null Count  Dtype  \n",
      "---  ------          --------------  -----  \n",
      " 0   age             41188 non-null  int64  \n",
      " 1   job             41188 non-null  object \n",
      " 2   marital         41188 non-null  object \n",
      " 3   education       41188 non-null  object \n",
      " 4   default         41188 non-null  object \n",
      " 5   housing         41188 non-null  object \n",
      " 6   loan            41188 non-null  object \n",
      " 7   contact         41188 non-null  object \n",
      " 8   month           41188 non-null  object \n",
      " 9   day_of_week     41188 non-null  object \n",
      " 10  duration        41188 non-null  int64  \n",
      " 11  campaign        41188 non-null  int64  \n",
      " 12  pdays           41188 non-null  int64  \n",
      " 13  previous        41188 non-null  int64  \n",
      " 14  poutcome        41188 non-null  object \n",
      " 15  emp.var.rate    41188 non-null  float64\n",
      " 16  cons.price.idx  41188 non-null  float64\n",
      " 17  cons.conf.idx   41188 non-null  float64\n",
      " 18  euribor3m       41188 non-null  float64\n",
      " 19  nr.employed     41188 non-null  float64\n",
      " 20  y               41188 non-null  object \n",
      "dtypes: float64(5), int64(5), object(11)\n",
      "memory usage: 6.6+ MB\n"
     ]
    }
   ],
   "source": [
    "data.info()"
   ]
  },
  {
   "cell_type": "markdown",
   "id": "e8076445",
   "metadata": {
    "papermill": {
     "duration": 0.107154,
     "end_time": "2022-05-19T19:04:47.505367",
     "exception": false,
     "start_time": "2022-05-19T19:04:47.398213",
     "status": "completed"
    },
    "tags": []
   },
   "source": [
    "### 1. What does the primary analysis of several categorical features reveal?"
   ]
  },
  {
   "cell_type": "code",
   "execution_count": 7,
   "id": "36394f0f",
   "metadata": {
    "execution": {
     "iopub.execute_input": "2022-05-19T19:04:47.718043Z",
     "iopub.status.busy": "2022-05-19T19:04:47.717750Z",
     "iopub.status.idle": "2022-05-19T19:04:47.731478Z",
     "shell.execute_reply": "2022-05-19T19:04:47.730873Z"
    },
    "papermill": {
     "duration": 0.122864,
     "end_time": "2022-05-19T19:04:47.734288",
     "exception": false,
     "start_time": "2022-05-19T19:04:47.611424",
     "status": "completed"
    },
    "tags": []
   },
   "outputs": [
    {
     "name": "stdout",
     "output_type": "stream",
     "text": [
      "11\n",
      "(41188, 11)\n"
     ]
    },
    {
     "data": {
      "text/plain": [
       "Index(['job', 'marital', 'education', 'default', 'housing', 'loan', 'contact',\n",
       "       'month', 'day_of_week', 'poutcome', 'y'],\n",
       "      dtype='object')"
      ]
     },
     "execution_count": 7,
     "metadata": {},
     "output_type": "execute_result"
    }
   ],
   "source": [
    "categorical_bank = data.select_dtypes(include = 'O')\n",
    "print(len(categorical_bank.columns))\n",
    "print(categorical_bank.shape)\n",
    "categorical_bank.columns"
   ]
  },
  {
   "cell_type": "code",
   "execution_count": 76,
   "id": "86251512",
   "metadata": {
    "execution": {
     "iopub.execute_input": "2022-05-19T19:04:47.945324Z",
     "iopub.status.busy": "2022-05-19T19:04:47.945129Z",
     "iopub.status.idle": "2022-05-19T19:04:50.603720Z",
     "shell.execute_reply": "2022-05-19T19:04:50.602700Z"
    },
    "papermill": {
     "duration": 2.766877,
     "end_time": "2022-05-19T19:04:50.606199",
     "exception": false,
     "start_time": "2022-05-19T19:04:47.839322",
     "status": "completed"
    },
    "tags": []
   },
   "outputs": [
    {
     "name": "stdout",
     "output_type": "stream",
     "text": [
      "Value Counts of the  job column is\n",
      " admin.           10422\n",
      "blue-collar       9254\n",
      "technician        6743\n",
      "services          3969\n",
      "management        2924\n",
      "retired           1720\n",
      "entrepreneur      1456\n",
      "self-employed     1421\n",
      "housemaid         1060\n",
      "unemployed        1014\n",
      "student            875\n",
      "unknown            330\n",
      "Name: job, dtype: int64 \n",
      "\n",
      "Value Counts of the  marital column is\n",
      " married     24928\n",
      "single      11568\n",
      "divorced     4612\n",
      "unknown        80\n",
      "Name: marital, dtype: int64 \n",
      "\n",
      "Value Counts of the  education column is\n",
      " university.degree      12168\n",
      "high.school             9515\n",
      "basic.9y                6045\n",
      "professional.course     5243\n",
      "basic.4y                4176\n",
      "basic.6y                2292\n",
      "unknown                 1731\n",
      "illiterate                18\n",
      "Name: education, dtype: int64 \n",
      "\n",
      "Value Counts of the  default column is\n",
      " no         32588\n",
      "unknown     8597\n",
      "yes            3\n",
      "Name: default, dtype: int64 \n",
      "\n",
      "Value Counts of the  housing column is\n",
      " yes        21576\n",
      "no         18622\n",
      "unknown      990\n",
      "Name: housing, dtype: int64 \n",
      "\n",
      "Value Counts of the  loan column is\n",
      " no         33950\n",
      "yes         6248\n",
      "unknown      990\n",
      "Name: loan, dtype: int64 \n",
      "\n",
      "Value Counts of the  contact column is\n",
      " cellular     26144\n",
      "telephone    15044\n",
      "Name: contact, dtype: int64 \n",
      "\n",
      "Value Counts of the  month column is\n",
      " may    13769\n",
      "jul     7174\n",
      "aug     6178\n",
      "jun     5318\n",
      "nov     4101\n",
      "apr     2632\n",
      "oct      718\n",
      "sep      570\n",
      "mar      546\n",
      "dec      182\n",
      "Name: month, dtype: int64 \n",
      "\n",
      "Value Counts of the  day_of_week column is\n",
      " thu    8623\n",
      "mon    8514\n",
      "wed    8134\n",
      "tue    8090\n",
      "fri    7827\n",
      "Name: day_of_week, dtype: int64 \n",
      "\n",
      "Value Counts of the  poutcome column is\n",
      " nonexistent    35563\n",
      "failure         4252\n",
      "success         1373\n",
      "Name: poutcome, dtype: int64 \n",
      "\n",
      "Value Counts of the  y column is\n",
      " no     36548\n",
      "yes     4640\n",
      "Name: y, dtype: int64 \n",
      "\n"
     ]
    }
   ],
   "source": [
    "for i in categorical_bank.columns:\n",
    "    print('Value Counts of the ',i,'column is\\n',data[i].value_counts(),'\\n')\n",
    "    #sns.countplot(data[i])\n",
    "    #plt.title(i)\n",
    "    #plt.show()"
   ]
  },
  {
   "cell_type": "code",
   "execution_count": 12,
   "id": "24c2adef",
   "metadata": {
    "execution": {
     "iopub.execute_input": "2022-05-19T19:04:50.851751Z",
     "iopub.status.busy": "2022-05-19T19:04:50.851442Z",
     "iopub.status.idle": "2022-05-19T19:04:51.209717Z",
     "shell.execute_reply": "2022-05-19T19:04:51.208684Z"
    },
    "papermill": {
     "duration": 0.48282,
     "end_time": "2022-05-19T19:04:51.211960",
     "exception": false,
     "start_time": "2022-05-19T19:04:50.729140",
     "status": "completed"
    },
    "tags": []
   },
   "outputs": [
    {
     "data": {
      "text/plain": [
       "<Axes: xlabel='job', ylabel='count'>"
      ]
     },
     "execution_count": 12,
     "metadata": {},
     "output_type": "execute_result"
    },
    {
     "data": {
      "image/png": "[encoded data removed]",
      "text/plain": [
       "<Figure size 2000x1000 with 1 Axes>"
      ]
     },
     "metadata": {},
     "output_type": "display_data"
    }
   ],
   "source": [
    "fig=plt.figure(figsize=(20,10))\n",
    "sns.countplot(x='job',hue='y',data=data)"
   ]
  },
  {
   "cell_type": "code",
   "execution_count": 13,
   "id": "8676278b",
   "metadata": {
    "execution": {
     "iopub.execute_input": "2022-05-19T19:04:51.459748Z",
     "iopub.status.busy": "2022-05-19T19:04:51.459392Z",
     "iopub.status.idle": "2022-05-19T19:04:52.125752Z",
     "shell.execute_reply": "2022-05-19T19:04:52.124709Z"
    },
    "papermill": {
     "duration": 0.793031,
     "end_time": "2022-05-19T19:04:52.127620",
     "exception": false,
     "start_time": "2022-05-19T19:04:51.334589",
     "status": "completed"
    },
    "tags": []
   },
   "outputs": [
    {
     "data": {
      "image/png": "[encoded data removed]",
      "text/plain": [
       "<Figure size 1500x1500 with 2 Axes>"
      ]
     },
     "metadata": {},
     "output_type": "display_data"
    }
   ],
   "source": [
    "f,ax=plt.subplots(figsize=(15,15))\n",
    "sns.heatmap(data.corr(),annot=True,linewidths=0.5,linecolor=\"black\",fmt=\".1f\",ax=ax)\n",
    "plt.show()"
   ]
  },
  {
   "cell_type": "code",
   "execution_count": null,
   "id": "5df67cf7",
   "metadata": {
    "execution": {
     "iopub.execute_input": "2022-05-19T19:04:52.297061Z",
     "iopub.status.busy": "2022-05-19T19:04:52.295331Z",
     "iopub.status.idle": "2022-05-19T19:04:52.302507Z",
     "shell.execute_reply": "2022-05-19T19:04:52.301152Z"
    },
    "papermill": {
     "duration": 0.092682,
     "end_time": "2022-05-19T19:04:52.304989",
     "exception": false,
     "start_time": "2022-05-19T19:04:52.212307",
     "status": "completed"
    },
    "tags": []
   },
   "outputs": [],
   "source": [
    "# 1.Job: Highest Number of application are from admin type of job.\n",
    "\n",
    "# 2.Marital: maximum number of client who approached were married.\n",
    "\n",
    "# 3.Education: Client with university degree and high school were approached more as compare to other and they have higher success rate as well. (in terms of term deposit number)\n",
    "\n",
    "# 4.Default: Default variable has no impact on the client subscribing for term deposit. So we will drop this feature.\n",
    "\n",
    "# 5.Housing: Housing loan does not have much effect on the number of term deposit purchased.\n",
    "\n",
    "# 6.Loan: We approach around 84% of client with not having personal loan.\n",
    "\n",
    "# 7.Contact: Around 64% calls are from cellular.\n",
    "\n",
    "# 8.Month: Around 33% were approached in may and in January, Febuary we don't have data or no one was approached. Success rate was almost same in june, july and August.\n",
    "\n",
    "# 9.day_of_week: We have 5 days collected values. There is no significant different in the number of client approached and number of people subscribed.\n",
    "\n",
    "# 10.poutcome: If a client took the term deposit last time than there is higher chances of that client subscribing to it again."
   ]
  },
  {
   "cell_type": "markdown",
   "id": "8e0d5403",
   "metadata": {
    "papermill": {
     "duration": 0.082177,
     "end_time": "2022-05-19T19:04:52.469121",
     "exception": false,
     "start_time": "2022-05-19T19:04:52.386944",
     "status": "completed"
    },
    "tags": []
   },
   "source": [
    "### 2. Perform the following Exploratory Data Analysis tasks:"
   ]
  },
  {
   "cell_type": "markdown",
   "id": "82e4e7cc",
   "metadata": {
    "papermill": {
     "duration": 0.082738,
     "end_time": "2022-05-19T19:04:52.635854",
     "exception": false,
     "start_time": "2022-05-19T19:04:52.553116",
     "status": "completed"
    },
    "tags": []
   },
   "source": [
    "#### a. Missing Value Analysis"
   ]
  },
  {
   "cell_type": "code",
   "execution_count": 14,
   "id": "17599c33",
   "metadata": {
    "execution": {
     "iopub.execute_input": "2022-05-19T19:04:52.806182Z",
     "iopub.status.busy": "2022-05-19T19:04:52.805462Z",
     "iopub.status.idle": "2022-05-19T19:04:52.862281Z",
     "shell.execute_reply": "2022-05-19T19:04:52.860788Z"
    },
    "papermill": {
     "duration": 0.142931,
     "end_time": "2022-05-19T19:04:52.864751",
     "exception": false,
     "start_time": "2022-05-19T19:04:52.721820",
     "status": "completed"
    },
    "tags": []
   },
   "outputs": [
    {
     "data": {
      "text/plain": [
       "age               0\n",
       "job               0\n",
       "marital           0\n",
       "education         0\n",
       "default           0\n",
       "housing           0\n",
       "loan              0\n",
       "contact           0\n",
       "month             0\n",
       "day_of_week       0\n",
       "duration          0\n",
       "campaign          0\n",
       "pdays             0\n",
       "previous          0\n",
       "poutcome          0\n",
       "emp.var.rate      0\n",
       "cons.price.idx    0\n",
       "cons.conf.idx     0\n",
       "euribor3m         0\n",
       "nr.employed       0\n",
       "y                 0\n",
       "dtype: int64"
      ]
     },
     "execution_count": 14,
     "metadata": {},
     "output_type": "execute_result"
    }
   ],
   "source": [
    "data.isnull().sum()"
   ]
  },
  {
   "cell_type": "markdown",
   "id": "5c02e872",
   "metadata": {
    "papermill": {
     "duration": 0.08199,
     "end_time": "2022-05-19T19:04:53.030253",
     "exception": false,
     "start_time": "2022-05-19T19:04:52.948263",
     "status": "completed"
    },
    "tags": []
   },
   "source": [
    "Conclusion: from above code we can Understand that there are no Nullvalues in the dataset"
   ]
  },
  {
   "cell_type": "markdown",
   "id": "4ab0db95",
   "metadata": {
    "papermill": {
     "duration": 0.082006,
     "end_time": "2022-05-19T19:04:53.195117",
     "exception": false,
     "start_time": "2022-05-19T19:04:53.113111",
     "status": "completed"
    },
    "tags": []
   },
   "source": [
    "#### Treating the Column \"pdays\" by Binning"
   ]
  },
  {
   "cell_type": "code",
   "execution_count": 15,
   "id": "c1592058",
   "metadata": {
    "execution": {
     "iopub.execute_input": "2022-05-19T19:04:53.362367Z",
     "iopub.status.busy": "2022-05-19T19:04:53.362109Z",
     "iopub.status.idle": "2022-05-19T19:04:53.371900Z",
     "shell.execute_reply": "2022-05-19T19:04:53.370069Z"
    },
    "papermill": {
     "duration": 0.097101,
     "end_time": "2022-05-19T19:04:53.374696",
     "exception": false,
     "start_time": "2022-05-19T19:04:53.277595",
     "status": "completed"
    },
    "tags": []
   },
   "outputs": [
    {
     "data": {
      "text/plain": [
       "999    39673\n",
       "3        439\n",
       "6        412\n",
       "4        118\n",
       "9         64\n",
       "2         61\n",
       "7         60\n",
       "12        58\n",
       "10        52\n",
       "5         46\n",
       "13        36\n",
       "11        28\n",
       "1         26\n",
       "15        24\n",
       "14        20\n",
       "8         18\n",
       "0         15\n",
       "16        11\n",
       "17         8\n",
       "18         7\n",
       "22         3\n",
       "19         3\n",
       "21         2\n",
       "25         1\n",
       "26         1\n",
       "27         1\n",
       "20         1\n",
       "Name: pdays, dtype: int64"
      ]
     },
     "execution_count": 15,
     "metadata": {},
     "output_type": "execute_result"
    }
   ],
   "source": [
    "data.pdays.value_counts()"
   ]
  },
  {
   "cell_type": "code",
   "execution_count": 16,
   "id": "59e48601",
   "metadata": {
    "execution": {
     "iopub.execute_input": "2022-05-19T19:04:53.630821Z",
     "iopub.status.busy": "2022-05-19T19:04:53.630519Z",
     "iopub.status.idle": "2022-05-19T19:04:53.637007Z",
     "shell.execute_reply": "2022-05-19T19:04:53.635992Z"
    },
    "papermill": {
     "duration": 0.137386,
     "end_time": "2022-05-19T19:04:53.639402",
     "exception": false,
     "start_time": "2022-05-19T19:04:53.502016",
     "status": "completed"
    },
    "tags": []
   },
   "outputs": [],
   "source": [
    "data['pdays']=data.pdays.replace(999,0)"
   ]
  },
  {
   "cell_type": "code",
   "execution_count": 17,
   "id": "ac5cca66",
   "metadata": {
    "execution": {
     "iopub.execute_input": "2022-05-19T19:04:53.895277Z",
     "iopub.status.busy": "2022-05-19T19:04:53.894861Z",
     "iopub.status.idle": "2022-05-19T19:04:53.901924Z",
     "shell.execute_reply": "2022-05-19T19:04:53.900882Z"
    },
    "papermill": {
     "duration": 0.137153,
     "end_time": "2022-05-19T19:04:53.904019",
     "exception": false,
     "start_time": "2022-05-19T19:04:53.766866",
     "status": "completed"
    },
    "tags": []
   },
   "outputs": [
    {
     "data": {
      "text/plain": [
       "0     39688\n",
       "3       439\n",
       "6       412\n",
       "4       118\n",
       "9        64\n",
       "2        61\n",
       "7        60\n",
       "12       58\n",
       "10       52\n",
       "5        46\n",
       "13       36\n",
       "11       28\n",
       "1        26\n",
       "15       24\n",
       "14       20\n",
       "8        18\n",
       "16       11\n",
       "17        8\n",
       "18        7\n",
       "22        3\n",
       "19        3\n",
       "21        2\n",
       "25        1\n",
       "26        1\n",
       "27        1\n",
       "20        1\n",
       "Name: pdays, dtype: int64"
      ]
     },
     "execution_count": 17,
     "metadata": {},
     "output_type": "execute_result"
    }
   ],
   "source": [
    "data['pdays'].value_counts()"
   ]
  },
  {
   "cell_type": "code",
   "execution_count": 18,
   "id": "7ec25bbf",
   "metadata": {
    "execution": {
     "iopub.execute_input": "2022-05-19T19:04:54.160118Z",
     "iopub.status.busy": "2022-05-19T19:04:54.159377Z",
     "iopub.status.idle": "2022-05-19T19:04:54.167208Z",
     "shell.execute_reply": "2022-05-19T19:04:54.166077Z"
    },
    "papermill": {
     "duration": 0.137972,
     "end_time": "2022-05-19T19:04:54.169788",
     "exception": false,
     "start_time": "2022-05-19T19:04:54.031816",
     "status": "completed"
    },
    "tags": []
   },
   "outputs": [],
   "source": [
    "data['pdays']=pd.cut(data.pdays,bins=[-1,1,5,28],\n",
    "                      labels=['Low Calls','Moderate','High'])"
   ]
  },
  {
   "cell_type": "code",
   "execution_count": 19,
   "id": "2148cc0d",
   "metadata": {
    "execution": {
     "iopub.execute_input": "2022-05-19T19:04:54.428550Z",
     "iopub.status.busy": "2022-05-19T19:04:54.428269Z",
     "iopub.status.idle": "2022-05-19T19:04:54.436679Z",
     "shell.execute_reply": "2022-05-19T19:04:54.435581Z"
    },
    "papermill": {
     "duration": 0.141403,
     "end_time": "2022-05-19T19:04:54.438983",
     "exception": false,
     "start_time": "2022-05-19T19:04:54.297580",
     "status": "completed"
    },
    "tags": []
   },
   "outputs": [
    {
     "data": {
      "text/plain": [
       "Low Calls    39714\n",
       "High           810\n",
       "Moderate       664\n",
       "Name: pdays, dtype: int64"
      ]
     },
     "execution_count": 19,
     "metadata": {},
     "output_type": "execute_result"
    }
   ],
   "source": [
    "data['pdays'].value_counts()"
   ]
  },
  {
   "cell_type": "code",
   "execution_count": 20,
   "id": "7743d3c0",
   "metadata": {
    "execution": {
     "iopub.execute_input": "2022-05-19T19:04:54.694913Z",
     "iopub.status.busy": "2022-05-19T19:04:54.694683Z",
     "iopub.status.idle": "2022-05-19T19:04:54.697825Z",
     "shell.execute_reply": "2022-05-19T19:04:54.697077Z"
    },
    "papermill": {
     "duration": 0.132567,
     "end_time": "2022-05-19T19:04:54.699568",
     "exception": false,
     "start_time": "2022-05-19T19:04:54.567001",
     "status": "completed"
    },
    "tags": []
   },
   "outputs": [],
   "source": [
    "# selecting the data that are Categorical"
   ]
  },
  {
   "cell_type": "code",
   "execution_count": 21,
   "id": "a2d6077f",
   "metadata": {
    "execution": {
     "iopub.execute_input": "2022-05-19T19:04:54.954773Z",
     "iopub.status.busy": "2022-05-19T19:04:54.954440Z",
     "iopub.status.idle": "2022-05-19T19:04:54.962094Z",
     "shell.execute_reply": "2022-05-19T19:04:54.961610Z"
    },
    "papermill": {
     "duration": 0.138627,
     "end_time": "2022-05-19T19:04:54.964488",
     "exception": false,
     "start_time": "2022-05-19T19:04:54.825861",
     "status": "completed"
    },
    "tags": []
   },
   "outputs": [],
   "source": [
    "data_cat=data.select_dtypes(include='object')"
   ]
  },
  {
   "cell_type": "code",
   "execution_count": 22,
   "id": "5ef8c156",
   "metadata": {
    "execution": {
     "iopub.execute_input": "2022-05-19T19:04:55.219608Z",
     "iopub.status.busy": "2022-05-19T19:04:55.219214Z",
     "iopub.status.idle": "2022-05-19T19:04:55.233906Z",
     "shell.execute_reply": "2022-05-19T19:04:55.233139Z"
    },
    "papermill": {
     "duration": 0.143997,
     "end_time": "2022-05-19T19:04:55.235756",
     "exception": false,
     "start_time": "2022-05-19T19:04:55.091759",
     "status": "completed"
    },
    "tags": []
   },
   "outputs": [
    {
     "data": {
      "text/html": [
       "<div>\n",
       "<style scoped>\n",
       "    .dataframe tbody tr th:only-of-type {\n",
       "        vertical-align: middle;\n",
       "    }\n",
       "\n",
       "    .dataframe tbody tr th {\n",
       "        vertical-align: top;\n",
       "    }\n",
       "\n",
       "    .dataframe thead th {\n",
       "        text-align: right;\n",
       "    }\n",
       "</style>\n",
       "<table border=\"1\" class=\"dataframe\">\n",
       "  <thead>\n",
       "    <tr style=\"text-align: right;\">\n",
       "      <th></th>\n",
       "      <th>job</th>\n",
       "      <th>marital</th>\n",
       "      <th>education</th>\n",
       "      <th>default</th>\n",
       "      <th>housing</th>\n",
       "      <th>loan</th>\n",
       "      <th>contact</th>\n",
       "      <th>month</th>\n",
       "      <th>day_of_week</th>\n",
       "      <th>poutcome</th>\n",
       "      <th>y</th>\n",
       "    </tr>\n",
       "  </thead>\n",
       "  <tbody>\n",
       "    <tr>\n",
       "      <th>0</th>\n",
       "      <td>housemaid</td>\n",
       "      <td>married</td>\n",
       "      <td>basic.4y</td>\n",
       "      <td>no</td>\n",
       "      <td>no</td>\n",
       "      <td>no</td>\n",
       "      <td>telephone</td>\n",
       "      <td>may</td>\n",
       "      <td>mon</td>\n",
       "      <td>nonexistent</td>\n",
       "      <td>no</td>\n",
       "    </tr>\n",
       "    <tr>\n",
       "      <th>1</th>\n",
       "      <td>services</td>\n",
       "      <td>married</td>\n",
       "      <td>high.school</td>\n",
       "      <td>unknown</td>\n",
       "      <td>no</td>\n",
       "      <td>no</td>\n",
       "      <td>telephone</td>\n",
       "      <td>may</td>\n",
       "      <td>mon</td>\n",
       "      <td>nonexistent</td>\n",
       "      <td>no</td>\n",
       "    </tr>\n",
       "    <tr>\n",
       "      <th>2</th>\n",
       "      <td>services</td>\n",
       "      <td>married</td>\n",
       "      <td>high.school</td>\n",
       "      <td>no</td>\n",
       "      <td>yes</td>\n",
       "      <td>no</td>\n",
       "      <td>telephone</td>\n",
       "      <td>may</td>\n",
       "      <td>mon</td>\n",
       "      <td>nonexistent</td>\n",
       "      <td>no</td>\n",
       "    </tr>\n",
       "    <tr>\n",
       "      <th>3</th>\n",
       "      <td>admin.</td>\n",
       "      <td>married</td>\n",
       "      <td>basic.6y</td>\n",
       "      <td>no</td>\n",
       "      <td>no</td>\n",
       "      <td>no</td>\n",
       "      <td>telephone</td>\n",
       "      <td>may</td>\n",
       "      <td>mon</td>\n",
       "      <td>nonexistent</td>\n",
       "      <td>no</td>\n",
       "    </tr>\n",
       "    <tr>\n",
       "      <th>4</th>\n",
       "      <td>services</td>\n",
       "      <td>married</td>\n",
       "      <td>high.school</td>\n",
       "      <td>no</td>\n",
       "      <td>no</td>\n",
       "      <td>yes</td>\n",
       "      <td>telephone</td>\n",
       "      <td>may</td>\n",
       "      <td>mon</td>\n",
       "      <td>nonexistent</td>\n",
       "      <td>no</td>\n",
       "    </tr>\n",
       "    <tr>\n",
       "      <th>...</th>\n",
       "      <td>...</td>\n",
       "      <td>...</td>\n",
       "      <td>...</td>\n",
       "      <td>...</td>\n",
       "      <td>...</td>\n",
       "      <td>...</td>\n",
       "      <td>...</td>\n",
       "      <td>...</td>\n",
       "      <td>...</td>\n",
       "      <td>...</td>\n",
       "      <td>...</td>\n",
       "    </tr>\n",
       "    <tr>\n",
       "      <th>41183</th>\n",
       "      <td>retired</td>\n",
       "      <td>married</td>\n",
       "      <td>professional.course</td>\n",
       "      <td>no</td>\n",
       "      <td>yes</td>\n",
       "      <td>no</td>\n",
       "      <td>cellular</td>\n",
       "      <td>nov</td>\n",
       "      <td>fri</td>\n",
       "      <td>nonexistent</td>\n",
       "      <td>yes</td>\n",
       "    </tr>\n",
       "    <tr>\n",
       "      <th>41184</th>\n",
       "      <td>blue-collar</td>\n",
       "      <td>married</td>\n",
       "      <td>professional.course</td>\n",
       "      <td>no</td>\n",
       "      <td>no</td>\n",
       "      <td>no</td>\n",
       "      <td>cellular</td>\n",
       "      <td>nov</td>\n",
       "      <td>fri</td>\n",
       "      <td>nonexistent</td>\n",
       "      <td>no</td>\n",
       "    </tr>\n",
       "    <tr>\n",
       "      <th>41185</th>\n",
       "      <td>retired</td>\n",
       "      <td>married</td>\n",
       "      <td>university.degree</td>\n",
       "      <td>no</td>\n",
       "      <td>yes</td>\n",
       "      <td>no</td>\n",
       "      <td>cellular</td>\n",
       "      <td>nov</td>\n",
       "      <td>fri</td>\n",
       "      <td>nonexistent</td>\n",
       "      <td>no</td>\n",
       "    </tr>\n",
       "    <tr>\n",
       "      <th>41186</th>\n",
       "      <td>technician</td>\n",
       "      <td>married</td>\n",
       "      <td>professional.course</td>\n",
       "      <td>no</td>\n",
       "      <td>no</td>\n",
       "      <td>no</td>\n",
       "      <td>cellular</td>\n",
       "      <td>nov</td>\n",
       "      <td>fri</td>\n",
       "      <td>nonexistent</td>\n",
       "      <td>yes</td>\n",
       "    </tr>\n",
       "    <tr>\n",
       "      <th>41187</th>\n",
       "      <td>retired</td>\n",
       "      <td>married</td>\n",
       "      <td>professional.course</td>\n",
       "      <td>no</td>\n",
       "      <td>yes</td>\n",
       "      <td>no</td>\n",
       "      <td>cellular</td>\n",
       "      <td>nov</td>\n",
       "      <td>fri</td>\n",
       "      <td>failure</td>\n",
       "      <td>no</td>\n",
       "    </tr>\n",
       "  </tbody>\n",
       "</table>\n",
       "<p>41188 rows × 11 columns</p>\n",
       "</div>"
      ],
      "text/plain": [
       "               job  marital            education  default housing loan  \\\n",
       "0        housemaid  married             basic.4y       no      no   no   \n",
       "1         services  married          high.school  unknown      no   no   \n",
       "2         services  married          high.school       no     yes   no   \n",
       "3           admin.  married             basic.6y       no      no   no   \n",
       "4         services  married          high.school       no      no  yes   \n",
       "...            ...      ...                  ...      ...     ...  ...   \n",
       "41183      retired  married  professional.course       no     yes   no   \n",
       "41184  blue-collar  married  professional.course       no      no   no   \n",
       "41185      retired  married    university.degree       no     yes   no   \n",
       "41186   technician  married  professional.course       no      no   no   \n",
       "41187      retired  married  professional.course       no     yes   no   \n",
       "\n",
       "         contact month day_of_week     poutcome    y  \n",
       "0      telephone   may         mon  nonexistent   no  \n",
       "1      telephone   may         mon  nonexistent   no  \n",
       "2      telephone   may         mon  nonexistent   no  \n",
       "3      telephone   may         mon  nonexistent   no  \n",
       "4      telephone   may         mon  nonexistent   no  \n",
       "...          ...   ...         ...          ...  ...  \n",
       "41183   cellular   nov         fri  nonexistent  yes  \n",
       "41184   cellular   nov         fri  nonexistent   no  \n",
       "41185   cellular   nov         fri  nonexistent   no  \n",
       "41186   cellular   nov         fri  nonexistent  yes  \n",
       "41187   cellular   nov         fri      failure   no  \n",
       "\n",
       "[41188 rows x 11 columns]"
      ]
     },
     "execution_count": 22,
     "metadata": {},
     "output_type": "execute_result"
    }
   ],
   "source": [
    "data_cat"
   ]
  },
  {
   "cell_type": "code",
   "execution_count": 23,
   "id": "78c91ff2",
   "metadata": {
    "execution": {
     "iopub.execute_input": "2022-05-19T19:04:55.493361Z",
     "iopub.status.busy": "2022-05-19T19:04:55.493008Z",
     "iopub.status.idle": "2022-05-19T19:04:55.500889Z",
     "shell.execute_reply": "2022-05-19T19:04:55.500207Z"
    },
    "papermill": {
     "duration": 0.139081,
     "end_time": "2022-05-19T19:04:55.503284",
     "exception": false,
     "start_time": "2022-05-19T19:04:55.364203",
     "status": "completed"
    },
    "tags": []
   },
   "outputs": [
    {
     "data": {
      "text/plain": [
       "university.degree      12168\n",
       "high.school             9515\n",
       "basic.9y                6045\n",
       "professional.course     5243\n",
       "basic.4y                4176\n",
       "basic.6y                2292\n",
       "unknown                 1731\n",
       "illiterate                18\n",
       "Name: education, dtype: int64"
      ]
     },
     "execution_count": 23,
     "metadata": {},
     "output_type": "execute_result"
    }
   ],
   "source": [
    "data_cat['education'].value_counts()"
   ]
  },
  {
   "cell_type": "code",
   "execution_count": 24,
   "id": "1d295fe4",
   "metadata": {
    "execution": {
     "iopub.execute_input": "2022-05-19T19:04:55.760222Z",
     "iopub.status.busy": "2022-05-19T19:04:55.759990Z",
     "iopub.status.idle": "2022-05-19T19:04:55.771044Z",
     "shell.execute_reply": "2022-05-19T19:04:55.769997Z"
    },
    "papermill": {
     "duration": 0.142611,
     "end_time": "2022-05-19T19:04:55.773376",
     "exception": false,
     "start_time": "2022-05-19T19:04:55.630765",
     "status": "completed"
    },
    "tags": []
   },
   "outputs": [],
   "source": [
    "#  including 'basic.9y','basic.6y','basic.4y' as 'School'\n",
    "\n",
    "data_cat['education']=data_cat['education'].replace(to_replace=['basic.9y','basic.4y','basic.6y'],value=['school','school','school'])"
   ]
  },
  {
   "cell_type": "code",
   "execution_count": null,
   "id": "b7a766d2",
   "metadata": {
    "papermill": {
     "duration": 0.084098,
     "end_time": "2022-05-19T19:04:55.943978",
     "exception": false,
     "start_time": "2022-05-19T19:04:55.859880",
     "status": "completed"
    },
    "tags": []
   },
   "outputs": [],
   "source": []
  },
  {
   "cell_type": "code",
   "execution_count": 25,
   "id": "7cac5268",
   "metadata": {
    "execution": {
     "iopub.execute_input": "2022-05-19T19:04:56.116774Z",
     "iopub.status.busy": "2022-05-19T19:04:56.116482Z",
     "iopub.status.idle": "2022-05-19T19:04:56.128552Z",
     "shell.execute_reply": "2022-05-19T19:04:56.127924Z"
    },
    "papermill": {
     "duration": 0.100298,
     "end_time": "2022-05-19T19:04:56.130141",
     "exception": false,
     "start_time": "2022-05-19T19:04:56.029843",
     "status": "completed"
    },
    "tags": []
   },
   "outputs": [
    {
     "data": {
      "text/plain": [
       "school                 12513\n",
       "university.degree      12168\n",
       "high.school             9515\n",
       "professional.course     5243\n",
       "unknown                 1731\n",
       "illiterate                18\n",
       "Name: education, dtype: int64"
      ]
     },
     "execution_count": 25,
     "metadata": {},
     "output_type": "execute_result"
    }
   ],
   "source": [
    "data_cat['education'].value_counts()"
   ]
  },
  {
   "cell_type": "markdown",
   "id": "527b1a4d",
   "metadata": {
    "papermill": {
     "duration": 0.085859,
     "end_time": "2022-05-19T19:04:56.302062",
     "exception": false,
     "start_time": "2022-05-19T19:04:56.216203",
     "status": "completed"
    },
    "tags": []
   },
   "source": [
    "## Creating Numerical data as 'data_num'"
   ]
  },
  {
   "cell_type": "code",
   "execution_count": 26,
   "id": "fdea6d20",
   "metadata": {
    "execution": {
     "iopub.execute_input": "2022-05-19T19:04:56.476245Z",
     "iopub.status.busy": "2022-05-19T19:04:56.475965Z",
     "iopub.status.idle": "2022-05-19T19:04:56.501473Z",
     "shell.execute_reply": "2022-05-19T19:04:56.500595Z"
    },
    "papermill": {
     "duration": 0.112795,
     "end_time": "2022-05-19T19:04:56.503021",
     "exception": false,
     "start_time": "2022-05-19T19:04:56.390226",
     "status": "completed"
    },
    "tags": []
   },
   "outputs": [
    {
     "data": {
      "text/html": [
       "<div>\n",
       "<style scoped>\n",
       "    .dataframe tbody tr th:only-of-type {\n",
       "        vertical-align: middle;\n",
       "    }\n",
       "\n",
       "    .dataframe tbody tr th {\n",
       "        vertical-align: top;\n",
       "    }\n",
       "\n",
       "    .dataframe thead th {\n",
       "        text-align: right;\n",
       "    }\n",
       "</style>\n",
       "<table border=\"1\" class=\"dataframe\">\n",
       "  <thead>\n",
       "    <tr style=\"text-align: right;\">\n",
       "      <th></th>\n",
       "      <th>age</th>\n",
       "      <th>duration</th>\n",
       "      <th>campaign</th>\n",
       "      <th>previous</th>\n",
       "      <th>emp.var.rate</th>\n",
       "      <th>cons.price.idx</th>\n",
       "      <th>cons.conf.idx</th>\n",
       "      <th>euribor3m</th>\n",
       "      <th>nr.employed</th>\n",
       "    </tr>\n",
       "  </thead>\n",
       "  <tbody>\n",
       "    <tr>\n",
       "      <th>0</th>\n",
       "      <td>56</td>\n",
       "      <td>261</td>\n",
       "      <td>1</td>\n",
       "      <td>0</td>\n",
       "      <td>1.1</td>\n",
       "      <td>93.994</td>\n",
       "      <td>-36.4</td>\n",
       "      <td>4.857</td>\n",
       "      <td>5191.0</td>\n",
       "    </tr>\n",
       "    <tr>\n",
       "      <th>1</th>\n",
       "      <td>57</td>\n",
       "      <td>149</td>\n",
       "      <td>1</td>\n",
       "      <td>0</td>\n",
       "      <td>1.1</td>\n",
       "      <td>93.994</td>\n",
       "      <td>-36.4</td>\n",
       "      <td>4.857</td>\n",
       "      <td>5191.0</td>\n",
       "    </tr>\n",
       "    <tr>\n",
       "      <th>2</th>\n",
       "      <td>37</td>\n",
       "      <td>226</td>\n",
       "      <td>1</td>\n",
       "      <td>0</td>\n",
       "      <td>1.1</td>\n",
       "      <td>93.994</td>\n",
       "      <td>-36.4</td>\n",
       "      <td>4.857</td>\n",
       "      <td>5191.0</td>\n",
       "    </tr>\n",
       "    <tr>\n",
       "      <th>3</th>\n",
       "      <td>40</td>\n",
       "      <td>151</td>\n",
       "      <td>1</td>\n",
       "      <td>0</td>\n",
       "      <td>1.1</td>\n",
       "      <td>93.994</td>\n",
       "      <td>-36.4</td>\n",
       "      <td>4.857</td>\n",
       "      <td>5191.0</td>\n",
       "    </tr>\n",
       "    <tr>\n",
       "      <th>4</th>\n",
       "      <td>56</td>\n",
       "      <td>307</td>\n",
       "      <td>1</td>\n",
       "      <td>0</td>\n",
       "      <td>1.1</td>\n",
       "      <td>93.994</td>\n",
       "      <td>-36.4</td>\n",
       "      <td>4.857</td>\n",
       "      <td>5191.0</td>\n",
       "    </tr>\n",
       "    <tr>\n",
       "      <th>...</th>\n",
       "      <td>...</td>\n",
       "      <td>...</td>\n",
       "      <td>...</td>\n",
       "      <td>...</td>\n",
       "      <td>...</td>\n",
       "      <td>...</td>\n",
       "      <td>...</td>\n",
       "      <td>...</td>\n",
       "      <td>...</td>\n",
       "    </tr>\n",
       "    <tr>\n",
       "      <th>41183</th>\n",
       "      <td>73</td>\n",
       "      <td>334</td>\n",
       "      <td>1</td>\n",
       "      <td>0</td>\n",
       "      <td>-1.1</td>\n",
       "      <td>94.767</td>\n",
       "      <td>-50.8</td>\n",
       "      <td>1.028</td>\n",
       "      <td>4963.6</td>\n",
       "    </tr>\n",
       "    <tr>\n",
       "      <th>41184</th>\n",
       "      <td>46</td>\n",
       "      <td>383</td>\n",
       "      <td>1</td>\n",
       "      <td>0</td>\n",
       "      <td>-1.1</td>\n",
       "      <td>94.767</td>\n",
       "      <td>-50.8</td>\n",
       "      <td>1.028</td>\n",
       "      <td>4963.6</td>\n",
       "    </tr>\n",
       "    <tr>\n",
       "      <th>41185</th>\n",
       "      <td>56</td>\n",
       "      <td>189</td>\n",
       "      <td>2</td>\n",
       "      <td>0</td>\n",
       "      <td>-1.1</td>\n",
       "      <td>94.767</td>\n",
       "      <td>-50.8</td>\n",
       "      <td>1.028</td>\n",
       "      <td>4963.6</td>\n",
       "    </tr>\n",
       "    <tr>\n",
       "      <th>41186</th>\n",
       "      <td>44</td>\n",
       "      <td>442</td>\n",
       "      <td>1</td>\n",
       "      <td>0</td>\n",
       "      <td>-1.1</td>\n",
       "      <td>94.767</td>\n",
       "      <td>-50.8</td>\n",
       "      <td>1.028</td>\n",
       "      <td>4963.6</td>\n",
       "    </tr>\n",
       "    <tr>\n",
       "      <th>41187</th>\n",
       "      <td>74</td>\n",
       "      <td>239</td>\n",
       "      <td>3</td>\n",
       "      <td>1</td>\n",
       "      <td>-1.1</td>\n",
       "      <td>94.767</td>\n",
       "      <td>-50.8</td>\n",
       "      <td>1.028</td>\n",
       "      <td>4963.6</td>\n",
       "    </tr>\n",
       "  </tbody>\n",
       "</table>\n",
       "<p>41188 rows × 9 columns</p>\n",
       "</div>"
      ],
      "text/plain": [
       "       age  duration  campaign  previous  emp.var.rate  cons.price.idx  \\\n",
       "0       56       261         1         0           1.1          93.994   \n",
       "1       57       149         1         0           1.1          93.994   \n",
       "2       37       226         1         0           1.1          93.994   \n",
       "3       40       151         1         0           1.1          93.994   \n",
       "4       56       307         1         0           1.1          93.994   \n",
       "...    ...       ...       ...       ...           ...             ...   \n",
       "41183   73       334         1         0          -1.1          94.767   \n",
       "41184   46       383         1         0          -1.1          94.767   \n",
       "41185   56       189         2         0          -1.1          94.767   \n",
       "41186   44       442         1         0          -1.1          94.767   \n",
       "41187   74       239         3         1          -1.1          94.767   \n",
       "\n",
       "       cons.conf.idx  euribor3m  nr.employed  \n",
       "0              -36.4      4.857       5191.0  \n",
       "1              -36.4      4.857       5191.0  \n",
       "2              -36.4      4.857       5191.0  \n",
       "3              -36.4      4.857       5191.0  \n",
       "4              -36.4      4.857       5191.0  \n",
       "...              ...        ...          ...  \n",
       "41183          -50.8      1.028       4963.6  \n",
       "41184          -50.8      1.028       4963.6  \n",
       "41185          -50.8      1.028       4963.6  \n",
       "41186          -50.8      1.028       4963.6  \n",
       "41187          -50.8      1.028       4963.6  \n",
       "\n",
       "[41188 rows x 9 columns]"
      ]
     },
     "execution_count": 26,
     "metadata": {},
     "output_type": "execute_result"
    }
   ],
   "source": [
    "data_num=data.select_dtypes(include='number')\n",
    "data_num"
   ]
  },
  {
   "cell_type": "markdown",
   "id": "5b3e94f1",
   "metadata": {
    "papermill": {
     "duration": 0.085626,
     "end_time": "2022-05-19T19:04:56.675061",
     "exception": false,
     "start_time": "2022-05-19T19:04:56.589435",
     "status": "completed"
    },
    "tags": []
   },
   "source": [
    "## Creating Categorical data as 'data_cat'"
   ]
  },
  {
   "cell_type": "code",
   "execution_count": 27,
   "id": "46f66069",
   "metadata": {
    "execution": {
     "iopub.execute_input": "2022-05-19T19:04:56.871119Z",
     "iopub.status.busy": "2022-05-19T19:04:56.870818Z",
     "iopub.status.idle": "2022-05-19T19:04:56.914663Z",
     "shell.execute_reply": "2022-05-19T19:04:56.913734Z"
    },
    "papermill": {
     "duration": 0.155286,
     "end_time": "2022-05-19T19:04:56.916523",
     "exception": false,
     "start_time": "2022-05-19T19:04:56.761237",
     "status": "completed"
    },
    "tags": []
   },
   "outputs": [],
   "source": [
    "data_cat['education']=data_cat['education'].replace(to_replace=['illiterate','unknown','school','high.school','university.degree','professional.course'],\n",
    "                                                                value=[0,1,2,3,4,5])"
   ]
  },
  {
   "cell_type": "code",
   "execution_count": 28,
   "id": "ecf8f96b",
   "metadata": {
    "execution": {
     "iopub.execute_input": "2022-05-19T19:04:57.090867Z",
     "iopub.status.busy": "2022-05-19T19:04:57.090476Z",
     "iopub.status.idle": "2022-05-19T19:04:57.098137Z",
     "shell.execute_reply": "2022-05-19T19:04:57.097156Z"
    },
    "papermill": {
     "duration": 0.097523,
     "end_time": "2022-05-19T19:04:57.099838",
     "exception": false,
     "start_time": "2022-05-19T19:04:57.002315",
     "status": "completed"
    },
    "tags": []
   },
   "outputs": [
    {
     "data": {
      "text/plain": [
       "2    12513\n",
       "4    12168\n",
       "3     9515\n",
       "5     5243\n",
       "1     1731\n",
       "0       18\n",
       "Name: education, dtype: int64"
      ]
     },
     "execution_count": 28,
     "metadata": {},
     "output_type": "execute_result"
    }
   ],
   "source": [
    "data_cat['education'].value_counts()"
   ]
  },
  {
   "cell_type": "code",
   "execution_count": 29,
   "id": "dd87cf38",
   "metadata": {
    "execution": {
     "iopub.execute_input": "2022-05-19T19:04:57.281777Z",
     "iopub.status.busy": "2022-05-19T19:04:57.281355Z",
     "iopub.status.idle": "2022-05-19T19:04:57.293443Z",
     "shell.execute_reply": "2022-05-19T19:04:57.292750Z"
    },
    "papermill": {
     "duration": 0.108874,
     "end_time": "2022-05-19T19:04:57.295451",
     "exception": false,
     "start_time": "2022-05-19T19:04:57.186577",
     "status": "completed"
    },
    "tags": []
   },
   "outputs": [
    {
     "data": {
      "text/plain": [
       "may    13769\n",
       "jul     7174\n",
       "aug     6178\n",
       "jun     5318\n",
       "nov     4101\n",
       "apr     2632\n",
       "oct      718\n",
       "sep      570\n",
       "mar      546\n",
       "dec      182\n",
       "Name: month, dtype: int64"
      ]
     },
     "execution_count": 29,
     "metadata": {},
     "output_type": "execute_result"
    }
   ],
   "source": [
    "data_cat['month'].value_counts()"
   ]
  },
  {
   "cell_type": "code",
   "execution_count": 30,
   "id": "3ed9a28c",
   "metadata": {
    "execution": {
     "iopub.execute_input": "2022-05-19T19:04:57.560095Z",
     "iopub.status.busy": "2022-05-19T19:04:57.559612Z",
     "iopub.status.idle": "2022-05-19T19:04:57.613080Z",
     "shell.execute_reply": "2022-05-19T19:04:57.612476Z"
    },
    "papermill": {
     "duration": 0.189064,
     "end_time": "2022-05-19T19:04:57.615690",
     "exception": false,
     "start_time": "2022-05-19T19:04:57.426626",
     "status": "completed"
    },
    "tags": []
   },
   "outputs": [],
   "source": [
    "# label encoding accounding to Months\n",
    "\n",
    "data_cat['month']=data_cat['month'].replace(to_replace=['mar','apr','may','jun','jul','aug','sep','oct','nov','dec'],\n",
    "                                                                value=[3,4,5,6,7,8,9,10,11,12])"
   ]
  },
  {
   "cell_type": "code",
   "execution_count": 31,
   "id": "04bbc0d1",
   "metadata": {
    "execution": {
     "iopub.execute_input": "2022-05-19T19:04:57.879216Z",
     "iopub.status.busy": "2022-05-19T19:04:57.877625Z",
     "iopub.status.idle": "2022-05-19T19:04:57.891694Z",
     "shell.execute_reply": "2022-05-19T19:04:57.890912Z"
    },
    "papermill": {
     "duration": 0.147529,
     "end_time": "2022-05-19T19:04:57.893653",
     "exception": false,
     "start_time": "2022-05-19T19:04:57.746124",
     "status": "completed"
    },
    "tags": []
   },
   "outputs": [
    {
     "data": {
      "text/plain": [
       "thu    8623\n",
       "mon    8514\n",
       "wed    8134\n",
       "tue    8090\n",
       "fri    7827\n",
       "Name: day_of_week, dtype: int64"
      ]
     },
     "execution_count": 31,
     "metadata": {},
     "output_type": "execute_result"
    }
   ],
   "source": [
    "data_cat['day_of_week'].value_counts()"
   ]
  },
  {
   "cell_type": "code",
   "execution_count": 32,
   "id": "70313f90",
   "metadata": {
    "execution": {
     "iopub.execute_input": "2022-05-19T19:04:58.157682Z",
     "iopub.status.busy": "2022-05-19T19:04:58.157385Z",
     "iopub.status.idle": "2022-05-19T19:04:58.197744Z",
     "shell.execute_reply": "2022-05-19T19:04:58.196348Z"
    },
    "papermill": {
     "duration": 0.175862,
     "end_time": "2022-05-19T19:04:58.200271",
     "exception": false,
     "start_time": "2022-05-19T19:04:58.024409",
     "status": "completed"
    },
    "tags": []
   },
   "outputs": [],
   "source": [
    "data_cat['day_of_week']=data_cat['day_of_week'].replace(to_replace=['mon','tue','wed','thu','fri'],\n",
    "                                                                value=[1,2,3,4,5])"
   ]
  },
  {
   "cell_type": "code",
   "execution_count": 33,
   "id": "eedd382d",
   "metadata": {
    "execution": {
     "iopub.execute_input": "2022-05-19T19:04:58.462759Z",
     "iopub.status.busy": "2022-05-19T19:04:58.462390Z",
     "iopub.status.idle": "2022-05-19T19:04:58.471100Z",
     "shell.execute_reply": "2022-05-19T19:04:58.470370Z"
    },
    "papermill": {
     "duration": 0.141815,
     "end_time": "2022-05-19T19:04:58.472943",
     "exception": false,
     "start_time": "2022-05-19T19:04:58.331128",
     "status": "completed"
    },
    "tags": []
   },
   "outputs": [
    {
     "data": {
      "text/plain": [
       "4    8623\n",
       "1    8514\n",
       "3    8134\n",
       "2    8090\n",
       "5    7827\n",
       "Name: day_of_week, dtype: int64"
      ]
     },
     "execution_count": 33,
     "metadata": {},
     "output_type": "execute_result"
    }
   ],
   "source": [
    "data_cat['day_of_week'].value_counts()"
   ]
  },
  {
   "cell_type": "code",
   "execution_count": 34,
   "id": "e27377d6",
   "metadata": {
    "execution": {
     "iopub.execute_input": "2022-05-19T19:04:58.738877Z",
     "iopub.status.busy": "2022-05-19T19:04:58.738621Z",
     "iopub.status.idle": "2022-05-19T19:04:58.748581Z",
     "shell.execute_reply": "2022-05-19T19:04:58.747673Z"
    },
    "papermill": {
     "duration": 0.147303,
     "end_time": "2022-05-19T19:04:58.751130",
     "exception": false,
     "start_time": "2022-05-19T19:04:58.603827",
     "status": "completed"
    },
    "tags": []
   },
   "outputs": [
    {
     "data": {
      "text/plain": [
       "nonexistent    35563\n",
       "failure         4252\n",
       "success         1373\n",
       "Name: poutcome, dtype: int64"
      ]
     },
     "execution_count": 34,
     "metadata": {},
     "output_type": "execute_result"
    }
   ],
   "source": [
    "data_cat['poutcome'].value_counts()"
   ]
  },
  {
   "cell_type": "code",
   "execution_count": 35,
   "id": "928d8021",
   "metadata": {
    "execution": {
     "iopub.execute_input": "2022-05-19T19:04:59.017011Z",
     "iopub.status.busy": "2022-05-19T19:04:59.016759Z",
     "iopub.status.idle": "2022-05-19T19:04:59.036693Z",
     "shell.execute_reply": "2022-05-19T19:04:59.035868Z"
    },
    "papermill": {
     "duration": 0.155461,
     "end_time": "2022-05-19T19:04:59.039160",
     "exception": false,
     "start_time": "2022-05-19T19:04:58.883699",
     "status": "completed"
    },
    "tags": []
   },
   "outputs": [],
   "source": [
    "data_cat['poutcome']=data_cat['poutcome'].replace(to_replace=['nonexistent','failure','success'],value=[0,1,2])"
   ]
  },
  {
   "cell_type": "code",
   "execution_count": 36,
   "id": "e7655196",
   "metadata": {
    "execution": {
     "iopub.execute_input": "2022-05-19T19:04:59.304227Z",
     "iopub.status.busy": "2022-05-19T19:04:59.303942Z",
     "iopub.status.idle": "2022-05-19T19:04:59.310579Z",
     "shell.execute_reply": "2022-05-19T19:04:59.309729Z"
    },
    "papermill": {
     "duration": 0.141772,
     "end_time": "2022-05-19T19:04:59.312477",
     "exception": false,
     "start_time": "2022-05-19T19:04:59.170705",
     "status": "completed"
    },
    "tags": []
   },
   "outputs": [
    {
     "data": {
      "text/plain": [
       "0        0\n",
       "1        0\n",
       "2        0\n",
       "3        0\n",
       "4        0\n",
       "        ..\n",
       "41183    0\n",
       "41184    0\n",
       "41185    0\n",
       "41186    0\n",
       "41187    1\n",
       "Name: poutcome, Length: 41188, dtype: int64"
      ]
     },
     "execution_count": 36,
     "metadata": {},
     "output_type": "execute_result"
    }
   ],
   "source": [
    "data_cat['poutcome']"
   ]
  },
  {
   "cell_type": "code",
   "execution_count": 37,
   "id": "b9594e52",
   "metadata": {
    "execution": {
     "iopub.execute_input": "2022-05-19T19:04:59.578485Z",
     "iopub.status.busy": "2022-05-19T19:04:59.578201Z",
     "iopub.status.idle": "2022-05-19T19:04:59.601705Z",
     "shell.execute_reply": "2022-05-19T19:04:59.600874Z"
    },
    "papermill": {
     "duration": 0.159275,
     "end_time": "2022-05-19T19:04:59.604179",
     "exception": false,
     "start_time": "2022-05-19T19:04:59.444904",
     "status": "completed"
    },
    "tags": []
   },
   "outputs": [],
   "source": [
    "# encoding the target value\n",
    "data_cat['y']=data_cat['y'].replace(to_replace=['no','yes'],value=[0,1])"
   ]
  },
  {
   "cell_type": "code",
   "execution_count": 38,
   "id": "064c6a8e",
   "metadata": {
    "execution": {
     "iopub.execute_input": "2022-05-19T19:04:59.874582Z",
     "iopub.status.busy": "2022-05-19T19:04:59.874308Z",
     "iopub.status.idle": "2022-05-19T19:04:59.889092Z",
     "shell.execute_reply": "2022-05-19T19:04:59.888335Z"
    },
    "papermill": {
     "duration": 0.15238,
     "end_time": "2022-05-19T19:04:59.891246",
     "exception": false,
     "start_time": "2022-05-19T19:04:59.738866",
     "status": "completed"
    },
    "tags": []
   },
   "outputs": [
    {
     "data": {
      "text/html": [
       "<div>\n",
       "<style scoped>\n",
       "    .dataframe tbody tr th:only-of-type {\n",
       "        vertical-align: middle;\n",
       "    }\n",
       "\n",
       "    .dataframe tbody tr th {\n",
       "        vertical-align: top;\n",
       "    }\n",
       "\n",
       "    .dataframe thead th {\n",
       "        text-align: right;\n",
       "    }\n",
       "</style>\n",
       "<table border=\"1\" class=\"dataframe\">\n",
       "  <thead>\n",
       "    <tr style=\"text-align: right;\">\n",
       "      <th></th>\n",
       "      <th>job</th>\n",
       "      <th>marital</th>\n",
       "      <th>education</th>\n",
       "      <th>default</th>\n",
       "      <th>housing</th>\n",
       "      <th>loan</th>\n",
       "      <th>contact</th>\n",
       "      <th>month</th>\n",
       "      <th>day_of_week</th>\n",
       "      <th>poutcome</th>\n",
       "      <th>y</th>\n",
       "    </tr>\n",
       "  </thead>\n",
       "  <tbody>\n",
       "    <tr>\n",
       "      <th>0</th>\n",
       "      <td>housemaid</td>\n",
       "      <td>married</td>\n",
       "      <td>2</td>\n",
       "      <td>no</td>\n",
       "      <td>no</td>\n",
       "      <td>no</td>\n",
       "      <td>telephone</td>\n",
       "      <td>5</td>\n",
       "      <td>1</td>\n",
       "      <td>0</td>\n",
       "      <td>0</td>\n",
       "    </tr>\n",
       "    <tr>\n",
       "      <th>1</th>\n",
       "      <td>services</td>\n",
       "      <td>married</td>\n",
       "      <td>3</td>\n",
       "      <td>unknown</td>\n",
       "      <td>no</td>\n",
       "      <td>no</td>\n",
       "      <td>telephone</td>\n",
       "      <td>5</td>\n",
       "      <td>1</td>\n",
       "      <td>0</td>\n",
       "      <td>0</td>\n",
       "    </tr>\n",
       "    <tr>\n",
       "      <th>2</th>\n",
       "      <td>services</td>\n",
       "      <td>married</td>\n",
       "      <td>3</td>\n",
       "      <td>no</td>\n",
       "      <td>yes</td>\n",
       "      <td>no</td>\n",
       "      <td>telephone</td>\n",
       "      <td>5</td>\n",
       "      <td>1</td>\n",
       "      <td>0</td>\n",
       "      <td>0</td>\n",
       "    </tr>\n",
       "    <tr>\n",
       "      <th>3</th>\n",
       "      <td>admin.</td>\n",
       "      <td>married</td>\n",
       "      <td>2</td>\n",
       "      <td>no</td>\n",
       "      <td>no</td>\n",
       "      <td>no</td>\n",
       "      <td>telephone</td>\n",
       "      <td>5</td>\n",
       "      <td>1</td>\n",
       "      <td>0</td>\n",
       "      <td>0</td>\n",
       "    </tr>\n",
       "    <tr>\n",
       "      <th>4</th>\n",
       "      <td>services</td>\n",
       "      <td>married</td>\n",
       "      <td>3</td>\n",
       "      <td>no</td>\n",
       "      <td>no</td>\n",
       "      <td>yes</td>\n",
       "      <td>telephone</td>\n",
       "      <td>5</td>\n",
       "      <td>1</td>\n",
       "      <td>0</td>\n",
       "      <td>0</td>\n",
       "    </tr>\n",
       "    <tr>\n",
       "      <th>...</th>\n",
       "      <td>...</td>\n",
       "      <td>...</td>\n",
       "      <td>...</td>\n",
       "      <td>...</td>\n",
       "      <td>...</td>\n",
       "      <td>...</td>\n",
       "      <td>...</td>\n",
       "      <td>...</td>\n",
       "      <td>...</td>\n",
       "      <td>...</td>\n",
       "      <td>...</td>\n",
       "    </tr>\n",
       "    <tr>\n",
       "      <th>41183</th>\n",
       "      <td>retired</td>\n",
       "      <td>married</td>\n",
       "      <td>5</td>\n",
       "      <td>no</td>\n",
       "      <td>yes</td>\n",
       "      <td>no</td>\n",
       "      <td>cellular</td>\n",
       "      <td>11</td>\n",
       "      <td>5</td>\n",
       "      <td>0</td>\n",
       "      <td>1</td>\n",
       "    </tr>\n",
       "    <tr>\n",
       "      <th>41184</th>\n",
       "      <td>blue-collar</td>\n",
       "      <td>married</td>\n",
       "      <td>5</td>\n",
       "      <td>no</td>\n",
       "      <td>no</td>\n",
       "      <td>no</td>\n",
       "      <td>cellular</td>\n",
       "      <td>11</td>\n",
       "      <td>5</td>\n",
       "      <td>0</td>\n",
       "      <td>0</td>\n",
       "    </tr>\n",
       "    <tr>\n",
       "      <th>41185</th>\n",
       "      <td>retired</td>\n",
       "      <td>married</td>\n",
       "      <td>4</td>\n",
       "      <td>no</td>\n",
       "      <td>yes</td>\n",
       "      <td>no</td>\n",
       "      <td>cellular</td>\n",
       "      <td>11</td>\n",
       "      <td>5</td>\n",
       "      <td>0</td>\n",
       "      <td>0</td>\n",
       "    </tr>\n",
       "    <tr>\n",
       "      <th>41186</th>\n",
       "      <td>technician</td>\n",
       "      <td>married</td>\n",
       "      <td>5</td>\n",
       "      <td>no</td>\n",
       "      <td>no</td>\n",
       "      <td>no</td>\n",
       "      <td>cellular</td>\n",
       "      <td>11</td>\n",
       "      <td>5</td>\n",
       "      <td>0</td>\n",
       "      <td>1</td>\n",
       "    </tr>\n",
       "    <tr>\n",
       "      <th>41187</th>\n",
       "      <td>retired</td>\n",
       "      <td>married</td>\n",
       "      <td>5</td>\n",
       "      <td>no</td>\n",
       "      <td>yes</td>\n",
       "      <td>no</td>\n",
       "      <td>cellular</td>\n",
       "      <td>11</td>\n",
       "      <td>5</td>\n",
       "      <td>1</td>\n",
       "      <td>0</td>\n",
       "    </tr>\n",
       "  </tbody>\n",
       "</table>\n",
       "<p>41188 rows × 11 columns</p>\n",
       "</div>"
      ],
      "text/plain": [
       "               job  marital  education  default housing loan    contact  \\\n",
       "0        housemaid  married          2       no      no   no  telephone   \n",
       "1         services  married          3  unknown      no   no  telephone   \n",
       "2         services  married          3       no     yes   no  telephone   \n",
       "3           admin.  married          2       no      no   no  telephone   \n",
       "4         services  married          3       no      no  yes  telephone   \n",
       "...            ...      ...        ...      ...     ...  ...        ...   \n",
       "41183      retired  married          5       no     yes   no   cellular   \n",
       "41184  blue-collar  married          5       no      no   no   cellular   \n",
       "41185      retired  married          4       no     yes   no   cellular   \n",
       "41186   technician  married          5       no      no   no   cellular   \n",
       "41187      retired  married          5       no     yes   no   cellular   \n",
       "\n",
       "       month  day_of_week  poutcome  y  \n",
       "0          5            1         0  0  \n",
       "1          5            1         0  0  \n",
       "2          5            1         0  0  \n",
       "3          5            1         0  0  \n",
       "4          5            1         0  0  \n",
       "...      ...          ...       ... ..  \n",
       "41183     11            5         0  1  \n",
       "41184     11            5         0  0  \n",
       "41185     11            5         0  0  \n",
       "41186     11            5         0  1  \n",
       "41187     11            5         1  0  \n",
       "\n",
       "[41188 rows x 11 columns]"
      ]
     },
     "execution_count": 38,
     "metadata": {},
     "output_type": "execute_result"
    }
   ],
   "source": [
    "data_cat"
   ]
  },
  {
   "cell_type": "markdown",
   "id": "cc8195e1",
   "metadata": {
    "papermill": {
     "duration": 0.130893,
     "end_time": "2022-05-19T19:05:00.155228",
     "exception": false,
     "start_time": "2022-05-19T19:05:00.024335",
     "status": "completed"
    },
    "tags": []
   },
   "source": [
    "#### Applying One hot encoder for the Remaining Categorical data"
   ]
  },
  {
   "cell_type": "code",
   "execution_count": 39,
   "id": "b6f824e3",
   "metadata": {
    "execution": {
     "iopub.execute_input": "2022-05-19T19:05:00.437134Z",
     "iopub.status.busy": "2022-05-19T19:05:00.436691Z",
     "iopub.status.idle": "2022-05-19T19:05:00.471334Z",
     "shell.execute_reply": "2022-05-19T19:05:00.470818Z"
    },
    "papermill": {
     "duration": 0.185633,
     "end_time": "2022-05-19T19:05:00.473606",
     "exception": false,
     "start_time": "2022-05-19T19:05:00.287973",
     "status": "completed"
    },
    "tags": []
   },
   "outputs": [],
   "source": [
    "data_cat=pd.get_dummies(data_cat)"
   ]
  },
  {
   "cell_type": "code",
   "execution_count": 40,
   "id": "36cb3be7",
   "metadata": {
    "execution": {
     "iopub.execute_input": "2022-05-19T19:05:00.744485Z",
     "iopub.status.busy": "2022-05-19T19:05:00.744057Z",
     "iopub.status.idle": "2022-05-19T19:05:00.764758Z",
     "shell.execute_reply": "2022-05-19T19:05:00.764007Z"
    },
    "papermill": {
     "duration": 0.158277,
     "end_time": "2022-05-19T19:05:00.767057",
     "exception": false,
     "start_time": "2022-05-19T19:05:00.608780",
     "status": "completed"
    },
    "tags": []
   },
   "outputs": [
    {
     "data": {
      "text/html": [
       "<div>\n",
       "<style scoped>\n",
       "    .dataframe tbody tr th:only-of-type {\n",
       "        vertical-align: middle;\n",
       "    }\n",
       "\n",
       "    .dataframe tbody tr th {\n",
       "        vertical-align: top;\n",
       "    }\n",
       "\n",
       "    .dataframe thead th {\n",
       "        text-align: right;\n",
       "    }\n",
       "</style>\n",
       "<table border=\"1\" class=\"dataframe\">\n",
       "  <thead>\n",
       "    <tr style=\"text-align: right;\">\n",
       "      <th></th>\n",
       "      <th>education</th>\n",
       "      <th>month</th>\n",
       "      <th>day_of_week</th>\n",
       "      <th>poutcome</th>\n",
       "      <th>y</th>\n",
       "      <th>job_admin.</th>\n",
       "      <th>job_blue-collar</th>\n",
       "      <th>job_entrepreneur</th>\n",
       "      <th>job_housemaid</th>\n",
       "      <th>job_management</th>\n",
       "      <th>job_retired</th>\n",
       "      <th>job_self-employed</th>\n",
       "      <th>job_services</th>\n",
       "      <th>job_student</th>\n",
       "      <th>job_technician</th>\n",
       "      <th>job_unemployed</th>\n",
       "      <th>job_unknown</th>\n",
       "      <th>marital_divorced</th>\n",
       "      <th>marital_married</th>\n",
       "      <th>marital_single</th>\n",
       "      <th>marital_unknown</th>\n",
       "      <th>default_no</th>\n",
       "      <th>default_unknown</th>\n",
       "      <th>default_yes</th>\n",
       "      <th>housing_no</th>\n",
       "      <th>housing_unknown</th>\n",
       "      <th>housing_yes</th>\n",
       "      <th>loan_no</th>\n",
       "      <th>loan_unknown</th>\n",
       "      <th>loan_yes</th>\n",
       "      <th>contact_cellular</th>\n",
       "      <th>contact_telephone</th>\n",
       "    </tr>\n",
       "  </thead>\n",
       "  <tbody>\n",
       "    <tr>\n",
       "      <th>0</th>\n",
       "      <td>2</td>\n",
       "      <td>5</td>\n",
       "      <td>1</td>\n",
       "      <td>0</td>\n",
       "      <td>0</td>\n",
       "      <td>0</td>\n",
       "      <td>0</td>\n",
       "      <td>0</td>\n",
       "      <td>1</td>\n",
       "      <td>0</td>\n",
       "      <td>0</td>\n",
       "      <td>0</td>\n",
       "      <td>0</td>\n",
       "      <td>0</td>\n",
       "      <td>0</td>\n",
       "      <td>0</td>\n",
       "      <td>0</td>\n",
       "      <td>0</td>\n",
       "      <td>1</td>\n",
       "      <td>0</td>\n",
       "      <td>0</td>\n",
       "      <td>1</td>\n",
       "      <td>0</td>\n",
       "      <td>0</td>\n",
       "      <td>1</td>\n",
       "      <td>0</td>\n",
       "      <td>0</td>\n",
       "      <td>1</td>\n",
       "      <td>0</td>\n",
       "      <td>0</td>\n",
       "      <td>0</td>\n",
       "      <td>1</td>\n",
       "    </tr>\n",
       "    <tr>\n",
       "      <th>1</th>\n",
       "      <td>3</td>\n",
       "      <td>5</td>\n",
       "      <td>1</td>\n",
       "      <td>0</td>\n",
       "      <td>0</td>\n",
       "      <td>0</td>\n",
       "      <td>0</td>\n",
       "      <td>0</td>\n",
       "      <td>0</td>\n",
       "      <td>0</td>\n",
       "      <td>0</td>\n",
       "      <td>0</td>\n",
       "      <td>1</td>\n",
       "      <td>0</td>\n",
       "      <td>0</td>\n",
       "      <td>0</td>\n",
       "      <td>0</td>\n",
       "      <td>0</td>\n",
       "      <td>1</td>\n",
       "      <td>0</td>\n",
       "      <td>0</td>\n",
       "      <td>0</td>\n",
       "      <td>1</td>\n",
       "      <td>0</td>\n",
       "      <td>1</td>\n",
       "      <td>0</td>\n",
       "      <td>0</td>\n",
       "      <td>1</td>\n",
       "      <td>0</td>\n",
       "      <td>0</td>\n",
       "      <td>0</td>\n",
       "      <td>1</td>\n",
       "    </tr>\n",
       "    <tr>\n",
       "      <th>2</th>\n",
       "      <td>3</td>\n",
       "      <td>5</td>\n",
       "      <td>1</td>\n",
       "      <td>0</td>\n",
       "      <td>0</td>\n",
       "      <td>0</td>\n",
       "      <td>0</td>\n",
       "      <td>0</td>\n",
       "      <td>0</td>\n",
       "      <td>0</td>\n",
       "      <td>0</td>\n",
       "      <td>0</td>\n",
       "      <td>1</td>\n",
       "      <td>0</td>\n",
       "      <td>0</td>\n",
       "      <td>0</td>\n",
       "      <td>0</td>\n",
       "      <td>0</td>\n",
       "      <td>1</td>\n",
       "      <td>0</td>\n",
       "      <td>0</td>\n",
       "      <td>1</td>\n",
       "      <td>0</td>\n",
       "      <td>0</td>\n",
       "      <td>0</td>\n",
       "      <td>0</td>\n",
       "      <td>1</td>\n",
       "      <td>1</td>\n",
       "      <td>0</td>\n",
       "      <td>0</td>\n",
       "      <td>0</td>\n",
       "      <td>1</td>\n",
       "    </tr>\n",
       "    <tr>\n",
       "      <th>3</th>\n",
       "      <td>2</td>\n",
       "      <td>5</td>\n",
       "      <td>1</td>\n",
       "      <td>0</td>\n",
       "      <td>0</td>\n",
       "      <td>1</td>\n",
       "      <td>0</td>\n",
       "      <td>0</td>\n",
       "      <td>0</td>\n",
       "      <td>0</td>\n",
       "      <td>0</td>\n",
       "      <td>0</td>\n",
       "      <td>0</td>\n",
       "      <td>0</td>\n",
       "      <td>0</td>\n",
       "      <td>0</td>\n",
       "      <td>0</td>\n",
       "      <td>0</td>\n",
       "      <td>1</td>\n",
       "      <td>0</td>\n",
       "      <td>0</td>\n",
       "      <td>1</td>\n",
       "      <td>0</td>\n",
       "      <td>0</td>\n",
       "      <td>1</td>\n",
       "      <td>0</td>\n",
       "      <td>0</td>\n",
       "      <td>1</td>\n",
       "      <td>0</td>\n",
       "      <td>0</td>\n",
       "      <td>0</td>\n",
       "      <td>1</td>\n",
       "    </tr>\n",
       "    <tr>\n",
       "      <th>4</th>\n",
       "      <td>3</td>\n",
       "      <td>5</td>\n",
       "      <td>1</td>\n",
       "      <td>0</td>\n",
       "      <td>0</td>\n",
       "      <td>0</td>\n",
       "      <td>0</td>\n",
       "      <td>0</td>\n",
       "      <td>0</td>\n",
       "      <td>0</td>\n",
       "      <td>0</td>\n",
       "      <td>0</td>\n",
       "      <td>1</td>\n",
       "      <td>0</td>\n",
       "      <td>0</td>\n",
       "      <td>0</td>\n",
       "      <td>0</td>\n",
       "      <td>0</td>\n",
       "      <td>1</td>\n",
       "      <td>0</td>\n",
       "      <td>0</td>\n",
       "      <td>1</td>\n",
       "      <td>0</td>\n",
       "      <td>0</td>\n",
       "      <td>1</td>\n",
       "      <td>0</td>\n",
       "      <td>0</td>\n",
       "      <td>0</td>\n",
       "      <td>0</td>\n",
       "      <td>1</td>\n",
       "      <td>0</td>\n",
       "      <td>1</td>\n",
       "    </tr>\n",
       "    <tr>\n",
       "      <th>...</th>\n",
       "      <td>...</td>\n",
       "      <td>...</td>\n",
       "      <td>...</td>\n",
       "      <td>...</td>\n",
       "      <td>...</td>\n",
       "      <td>...</td>\n",
       "      <td>...</td>\n",
       "      <td>...</td>\n",
       "      <td>...</td>\n",
       "      <td>...</td>\n",
       "      <td>...</td>\n",
       "      <td>...</td>\n",
       "      <td>...</td>\n",
       "      <td>...</td>\n",
       "      <td>...</td>\n",
       "      <td>...</td>\n",
       "      <td>...</td>\n",
       "      <td>...</td>\n",
       "      <td>...</td>\n",
       "      <td>...</td>\n",
       "      <td>...</td>\n",
       "      <td>...</td>\n",
       "      <td>...</td>\n",
       "      <td>...</td>\n",
       "      <td>...</td>\n",
       "      <td>...</td>\n",
       "      <td>...</td>\n",
       "      <td>...</td>\n",
       "      <td>...</td>\n",
       "      <td>...</td>\n",
       "      <td>...</td>\n",
       "      <td>...</td>\n",
       "    </tr>\n",
       "    <tr>\n",
       "      <th>41183</th>\n",
       "      <td>5</td>\n",
       "      <td>11</td>\n",
       "      <td>5</td>\n",
       "      <td>0</td>\n",
       "      <td>1</td>\n",
       "      <td>0</td>\n",
       "      <td>0</td>\n",
       "      <td>0</td>\n",
       "      <td>0</td>\n",
       "      <td>0</td>\n",
       "      <td>1</td>\n",
       "      <td>0</td>\n",
       "      <td>0</td>\n",
       "      <td>0</td>\n",
       "      <td>0</td>\n",
       "      <td>0</td>\n",
       "      <td>0</td>\n",
       "      <td>0</td>\n",
       "      <td>1</td>\n",
       "      <td>0</td>\n",
       "      <td>0</td>\n",
       "      <td>1</td>\n",
       "      <td>0</td>\n",
       "      <td>0</td>\n",
       "      <td>0</td>\n",
       "      <td>0</td>\n",
       "      <td>1</td>\n",
       "      <td>1</td>\n",
       "      <td>0</td>\n",
       "      <td>0</td>\n",
       "      <td>1</td>\n",
       "      <td>0</td>\n",
       "    </tr>\n",
       "    <tr>\n",
       "      <th>41184</th>\n",
       "      <td>5</td>\n",
       "      <td>11</td>\n",
       "      <td>5</td>\n",
       "      <td>0</td>\n",
       "      <td>0</td>\n",
       "      <td>0</td>\n",
       "      <td>1</td>\n",
       "      <td>0</td>\n",
       "      <td>0</td>\n",
       "      <td>0</td>\n",
       "      <td>0</td>\n",
       "      <td>0</td>\n",
       "      <td>0</td>\n",
       "      <td>0</td>\n",
       "      <td>0</td>\n",
       "      <td>0</td>\n",
       "      <td>0</td>\n",
       "      <td>0</td>\n",
       "      <td>1</td>\n",
       "      <td>0</td>\n",
       "      <td>0</td>\n",
       "      <td>1</td>\n",
       "      <td>0</td>\n",
       "      <td>0</td>\n",
       "      <td>1</td>\n",
       "      <td>0</td>\n",
       "      <td>0</td>\n",
       "      <td>1</td>\n",
       "      <td>0</td>\n",
       "      <td>0</td>\n",
       "      <td>1</td>\n",
       "      <td>0</td>\n",
       "    </tr>\n",
       "    <tr>\n",
       "      <th>41185</th>\n",
       "      <td>4</td>\n",
       "      <td>11</td>\n",
       "      <td>5</td>\n",
       "      <td>0</td>\n",
       "      <td>0</td>\n",
       "      <td>0</td>\n",
       "      <td>0</td>\n",
       "      <td>0</td>\n",
       "      <td>0</td>\n",
       "      <td>0</td>\n",
       "      <td>1</td>\n",
       "      <td>0</td>\n",
       "      <td>0</td>\n",
       "      <td>0</td>\n",
       "      <td>0</td>\n",
       "      <td>0</td>\n",
       "      <td>0</td>\n",
       "      <td>0</td>\n",
       "      <td>1</td>\n",
       "      <td>0</td>\n",
       "      <td>0</td>\n",
       "      <td>1</td>\n",
       "      <td>0</td>\n",
       "      <td>0</td>\n",
       "      <td>0</td>\n",
       "      <td>0</td>\n",
       "      <td>1</td>\n",
       "      <td>1</td>\n",
       "      <td>0</td>\n",
       "      <td>0</td>\n",
       "      <td>1</td>\n",
       "      <td>0</td>\n",
       "    </tr>\n",
       "    <tr>\n",
       "      <th>41186</th>\n",
       "      <td>5</td>\n",
       "      <td>11</td>\n",
       "      <td>5</td>\n",
       "      <td>0</td>\n",
       "      <td>1</td>\n",
       "      <td>0</td>\n",
       "      <td>0</td>\n",
       "      <td>0</td>\n",
       "      <td>0</td>\n",
       "      <td>0</td>\n",
       "      <td>0</td>\n",
       "      <td>0</td>\n",
       "      <td>0</td>\n",
       "      <td>0</td>\n",
       "      <td>1</td>\n",
       "      <td>0</td>\n",
       "      <td>0</td>\n",
       "      <td>0</td>\n",
       "      <td>1</td>\n",
       "      <td>0</td>\n",
       "      <td>0</td>\n",
       "      <td>1</td>\n",
       "      <td>0</td>\n",
       "      <td>0</td>\n",
       "      <td>1</td>\n",
       "      <td>0</td>\n",
       "      <td>0</td>\n",
       "      <td>1</td>\n",
       "      <td>0</td>\n",
       "      <td>0</td>\n",
       "      <td>1</td>\n",
       "      <td>0</td>\n",
       "    </tr>\n",
       "    <tr>\n",
       "      <th>41187</th>\n",
       "      <td>5</td>\n",
       "      <td>11</td>\n",
       "      <td>5</td>\n",
       "      <td>1</td>\n",
       "      <td>0</td>\n",
       "      <td>0</td>\n",
       "      <td>0</td>\n",
       "      <td>0</td>\n",
       "      <td>0</td>\n",
       "      <td>0</td>\n",
       "      <td>1</td>\n",
       "      <td>0</td>\n",
       "      <td>0</td>\n",
       "      <td>0</td>\n",
       "      <td>0</td>\n",
       "      <td>0</td>\n",
       "      <td>0</td>\n",
       "      <td>0</td>\n",
       "      <td>1</td>\n",
       "      <td>0</td>\n",
       "      <td>0</td>\n",
       "      <td>1</td>\n",
       "      <td>0</td>\n",
       "      <td>0</td>\n",
       "      <td>0</td>\n",
       "      <td>0</td>\n",
       "      <td>1</td>\n",
       "      <td>1</td>\n",
       "      <td>0</td>\n",
       "      <td>0</td>\n",
       "      <td>1</td>\n",
       "      <td>0</td>\n",
       "    </tr>\n",
       "  </tbody>\n",
       "</table>\n",
       "<p>41188 rows × 32 columns</p>\n",
       "</div>"
      ],
      "text/plain": [
       "       education  month  day_of_week  poutcome  y  job_admin.  \\\n",
       "0              2      5            1         0  0           0   \n",
       "1              3      5            1         0  0           0   \n",
       "2              3      5            1         0  0           0   \n",
       "3              2      5            1         0  0           1   \n",
       "4              3      5            1         0  0           0   \n",
       "...          ...    ...          ...       ... ..         ...   \n",
       "41183          5     11            5         0  1           0   \n",
       "41184          5     11            5         0  0           0   \n",
       "41185          4     11            5         0  0           0   \n",
       "41186          5     11            5         0  1           0   \n",
       "41187          5     11            5         1  0           0   \n",
       "\n",
       "       job_blue-collar  job_entrepreneur  job_housemaid  job_management  \\\n",
       "0                    0                 0              1               0   \n",
       "1                    0                 0              0               0   \n",
       "2                    0                 0              0               0   \n",
       "3                    0                 0              0               0   \n",
       "4                    0                 0              0               0   \n",
       "...                ...               ...            ...             ...   \n",
       "41183                0                 0              0               0   \n",
       "41184                1                 0              0               0   \n",
       "41185                0                 0              0               0   \n",
       "41186                0                 0              0               0   \n",
       "41187                0                 0              0               0   \n",
       "\n",
       "       job_retired  job_self-employed  job_services  job_student  \\\n",
       "0                0                  0             0            0   \n",
       "1                0                  0             1            0   \n",
       "2                0                  0             1            0   \n",
       "3                0                  0             0            0   \n",
       "4                0                  0             1            0   \n",
       "...            ...                ...           ...          ...   \n",
       "41183            1                  0             0            0   \n",
       "41184            0                  0             0            0   \n",
       "41185            1                  0             0            0   \n",
       "41186            0                  0             0            0   \n",
       "41187            1                  0             0            0   \n",
       "\n",
       "       job_technician  job_unemployed  job_unknown  marital_divorced  \\\n",
       "0                   0               0            0                 0   \n",
       "1                   0               0            0                 0   \n",
       "2                   0               0            0                 0   \n",
       "3                   0               0            0                 0   \n",
       "4                   0               0            0                 0   \n",
       "...               ...             ...          ...               ...   \n",
       "41183               0               0            0                 0   \n",
       "41184               0               0            0                 0   \n",
       "41185               0               0            0                 0   \n",
       "41186               1               0            0                 0   \n",
       "41187               0               0            0                 0   \n",
       "\n",
       "       marital_married  marital_single  marital_unknown  default_no  \\\n",
       "0                    1               0                0           1   \n",
       "1                    1               0                0           0   \n",
       "2                    1               0                0           1   \n",
       "3                    1               0                0           1   \n",
       "4                    1               0                0           1   \n",
       "...                ...             ...              ...         ...   \n",
       "41183                1               0                0           1   \n",
       "41184                1               0                0           1   \n",
       "41185                1               0                0           1   \n",
       "41186                1               0                0           1   \n",
       "41187                1               0                0           1   \n",
       "\n",
       "       default_unknown  default_yes  housing_no  housing_unknown  housing_yes  \\\n",
       "0                    0            0           1                0            0   \n",
       "1                    1            0           1                0            0   \n",
       "2                    0            0           0                0            1   \n",
       "3                    0            0           1                0            0   \n",
       "4                    0            0           1                0            0   \n",
       "...                ...          ...         ...              ...          ...   \n",
       "41183                0            0           0                0            1   \n",
       "41184                0            0           1                0            0   \n",
       "41185                0            0           0                0            1   \n",
       "41186                0            0           1                0            0   \n",
       "41187                0            0           0                0            1   \n",
       "\n",
       "       loan_no  loan_unknown  loan_yes  contact_cellular  contact_telephone  \n",
       "0            1             0         0                 0                  1  \n",
       "1            1             0         0                 0                  1  \n",
       "2            1             0         0                 0                  1  \n",
       "3            1             0         0                 0                  1  \n",
       "4            0             0         1                 0                  1  \n",
       "...        ...           ...       ...               ...                ...  \n",
       "41183        1             0         0                 1                  0  \n",
       "41184        1             0         0                 1                  0  \n",
       "41185        1             0         0                 1                  0  \n",
       "41186        1             0         0                 1                  0  \n",
       "41187        1             0         0                 1                  0  \n",
       "\n",
       "[41188 rows x 32 columns]"
      ]
     },
     "execution_count": 40,
     "metadata": {},
     "output_type": "execute_result"
    }
   ],
   "source": [
    "data_cat"
   ]
  },
  {
   "cell_type": "markdown",
   "id": "77e3decb",
   "metadata": {
    "papermill": {
     "duration": 0.134547,
     "end_time": "2022-05-19T19:05:01.035867",
     "exception": false,
     "start_time": "2022-05-19T19:05:00.901320",
     "status": "completed"
    },
    "tags": []
   },
   "source": [
    "## Concating \"data_cat\" and \"data_num\" as \"df\""
   ]
  },
  {
   "cell_type": "code",
   "execution_count": 41,
   "id": "bd7413d1",
   "metadata": {
    "execution": {
     "iopub.execute_input": "2022-05-19T19:05:01.308589Z",
     "iopub.status.busy": "2022-05-19T19:05:01.308182Z",
     "iopub.status.idle": "2022-05-19T19:05:01.313617Z",
     "shell.execute_reply": "2022-05-19T19:05:01.312803Z"
    },
    "papermill": {
     "duration": 0.145477,
     "end_time": "2022-05-19T19:05:01.315923",
     "exception": false,
     "start_time": "2022-05-19T19:05:01.170446",
     "status": "completed"
    },
    "tags": []
   },
   "outputs": [],
   "source": [
    "df=pd.concat([data_num,data_cat],axis=1)"
   ]
  },
  {
   "cell_type": "code",
   "execution_count": 42,
   "id": "650af2f7",
   "metadata": {
    "execution": {
     "iopub.execute_input": "2022-05-19T19:05:01.589030Z",
     "iopub.status.busy": "2022-05-19T19:05:01.588452Z",
     "iopub.status.idle": "2022-05-19T19:05:01.615804Z",
     "shell.execute_reply": "2022-05-19T19:05:01.614923Z"
    },
    "papermill": {
     "duration": 0.165605,
     "end_time": "2022-05-19T19:05:01.617695",
     "exception": false,
     "start_time": "2022-05-19T19:05:01.452090",
     "status": "completed"
    },
    "tags": []
   },
   "outputs": [
    {
     "data": {
      "text/html": [
       "<div>\n",
       "<style scoped>\n",
       "    .dataframe tbody tr th:only-of-type {\n",
       "        vertical-align: middle;\n",
       "    }\n",
       "\n",
       "    .dataframe tbody tr th {\n",
       "        vertical-align: top;\n",
       "    }\n",
       "\n",
       "    .dataframe thead th {\n",
       "        text-align: right;\n",
       "    }\n",
       "</style>\n",
       "<table border=\"1\" class=\"dataframe\">\n",
       "  <thead>\n",
       "    <tr style=\"text-align: right;\">\n",
       "      <th></th>\n",
       "      <th>age</th>\n",
       "      <th>duration</th>\n",
       "      <th>campaign</th>\n",
       "      <th>previous</th>\n",
       "      <th>emp.var.rate</th>\n",
       "      <th>cons.price.idx</th>\n",
       "      <th>cons.conf.idx</th>\n",
       "      <th>euribor3m</th>\n",
       "      <th>nr.employed</th>\n",
       "      <th>education</th>\n",
       "      <th>month</th>\n",
       "      <th>day_of_week</th>\n",
       "      <th>poutcome</th>\n",
       "      <th>y</th>\n",
       "      <th>job_admin.</th>\n",
       "      <th>job_blue-collar</th>\n",
       "      <th>job_entrepreneur</th>\n",
       "      <th>job_housemaid</th>\n",
       "      <th>job_management</th>\n",
       "      <th>job_retired</th>\n",
       "      <th>job_self-employed</th>\n",
       "      <th>job_services</th>\n",
       "      <th>job_student</th>\n",
       "      <th>job_technician</th>\n",
       "      <th>job_unemployed</th>\n",
       "      <th>job_unknown</th>\n",
       "      <th>marital_divorced</th>\n",
       "      <th>marital_married</th>\n",
       "      <th>marital_single</th>\n",
       "      <th>marital_unknown</th>\n",
       "      <th>default_no</th>\n",
       "      <th>default_unknown</th>\n",
       "      <th>default_yes</th>\n",
       "      <th>housing_no</th>\n",
       "      <th>housing_unknown</th>\n",
       "      <th>housing_yes</th>\n",
       "      <th>loan_no</th>\n",
       "      <th>loan_unknown</th>\n",
       "      <th>loan_yes</th>\n",
       "      <th>contact_cellular</th>\n",
       "      <th>contact_telephone</th>\n",
       "    </tr>\n",
       "  </thead>\n",
       "  <tbody>\n",
       "    <tr>\n",
       "      <th>0</th>\n",
       "      <td>56</td>\n",
       "      <td>261</td>\n",
       "      <td>1</td>\n",
       "      <td>0</td>\n",
       "      <td>1.1</td>\n",
       "      <td>93.994</td>\n",
       "      <td>-36.4</td>\n",
       "      <td>4.857</td>\n",
       "      <td>5191.0</td>\n",
       "      <td>2</td>\n",
       "      <td>5</td>\n",
       "      <td>1</td>\n",
       "      <td>0</td>\n",
       "      <td>0</td>\n",
       "      <td>0</td>\n",
       "      <td>0</td>\n",
       "      <td>0</td>\n",
       "      <td>1</td>\n",
       "      <td>0</td>\n",
       "      <td>0</td>\n",
       "      <td>0</td>\n",
       "      <td>0</td>\n",
       "      <td>0</td>\n",
       "      <td>0</td>\n",
       "      <td>0</td>\n",
       "      <td>0</td>\n",
       "      <td>0</td>\n",
       "      <td>1</td>\n",
       "      <td>0</td>\n",
       "      <td>0</td>\n",
       "      <td>1</td>\n",
       "      <td>0</td>\n",
       "      <td>0</td>\n",
       "      <td>1</td>\n",
       "      <td>0</td>\n",
       "      <td>0</td>\n",
       "      <td>1</td>\n",
       "      <td>0</td>\n",
       "      <td>0</td>\n",
       "      <td>0</td>\n",
       "      <td>1</td>\n",
       "    </tr>\n",
       "    <tr>\n",
       "      <th>1</th>\n",
       "      <td>57</td>\n",
       "      <td>149</td>\n",
       "      <td>1</td>\n",
       "      <td>0</td>\n",
       "      <td>1.1</td>\n",
       "      <td>93.994</td>\n",
       "      <td>-36.4</td>\n",
       "      <td>4.857</td>\n",
       "      <td>5191.0</td>\n",
       "      <td>3</td>\n",
       "      <td>5</td>\n",
       "      <td>1</td>\n",
       "      <td>0</td>\n",
       "      <td>0</td>\n",
       "      <td>0</td>\n",
       "      <td>0</td>\n",
       "      <td>0</td>\n",
       "      <td>0</td>\n",
       "      <td>0</td>\n",
       "      <td>0</td>\n",
       "      <td>0</td>\n",
       "      <td>1</td>\n",
       "      <td>0</td>\n",
       "      <td>0</td>\n",
       "      <td>0</td>\n",
       "      <td>0</td>\n",
       "      <td>0</td>\n",
       "      <td>1</td>\n",
       "      <td>0</td>\n",
       "      <td>0</td>\n",
       "      <td>0</td>\n",
       "      <td>1</td>\n",
       "      <td>0</td>\n",
       "      <td>1</td>\n",
       "      <td>0</td>\n",
       "      <td>0</td>\n",
       "      <td>1</td>\n",
       "      <td>0</td>\n",
       "      <td>0</td>\n",
       "      <td>0</td>\n",
       "      <td>1</td>\n",
       "    </tr>\n",
       "    <tr>\n",
       "      <th>2</th>\n",
       "      <td>37</td>\n",
       "      <td>226</td>\n",
       "      <td>1</td>\n",
       "      <td>0</td>\n",
       "      <td>1.1</td>\n",
       "      <td>93.994</td>\n",
       "      <td>-36.4</td>\n",
       "      <td>4.857</td>\n",
       "      <td>5191.0</td>\n",
       "      <td>3</td>\n",
       "      <td>5</td>\n",
       "      <td>1</td>\n",
       "      <td>0</td>\n",
       "      <td>0</td>\n",
       "      <td>0</td>\n",
       "      <td>0</td>\n",
       "      <td>0</td>\n",
       "      <td>0</td>\n",
       "      <td>0</td>\n",
       "      <td>0</td>\n",
       "      <td>0</td>\n",
       "      <td>1</td>\n",
       "      <td>0</td>\n",
       "      <td>0</td>\n",
       "      <td>0</td>\n",
       "      <td>0</td>\n",
       "      <td>0</td>\n",
       "      <td>1</td>\n",
       "      <td>0</td>\n",
       "      <td>0</td>\n",
       "      <td>1</td>\n",
       "      <td>0</td>\n",
       "      <td>0</td>\n",
       "      <td>0</td>\n",
       "      <td>0</td>\n",
       "      <td>1</td>\n",
       "      <td>1</td>\n",
       "      <td>0</td>\n",
       "      <td>0</td>\n",
       "      <td>0</td>\n",
       "      <td>1</td>\n",
       "    </tr>\n",
       "    <tr>\n",
       "      <th>3</th>\n",
       "      <td>40</td>\n",
       "      <td>151</td>\n",
       "      <td>1</td>\n",
       "      <td>0</td>\n",
       "      <td>1.1</td>\n",
       "      <td>93.994</td>\n",
       "      <td>-36.4</td>\n",
       "      <td>4.857</td>\n",
       "      <td>5191.0</td>\n",
       "      <td>2</td>\n",
       "      <td>5</td>\n",
       "      <td>1</td>\n",
       "      <td>0</td>\n",
       "      <td>0</td>\n",
       "      <td>1</td>\n",
       "      <td>0</td>\n",
       "      <td>0</td>\n",
       "      <td>0</td>\n",
       "      <td>0</td>\n",
       "      <td>0</td>\n",
       "      <td>0</td>\n",
       "      <td>0</td>\n",
       "      <td>0</td>\n",
       "      <td>0</td>\n",
       "      <td>0</td>\n",
       "      <td>0</td>\n",
       "      <td>0</td>\n",
       "      <td>1</td>\n",
       "      <td>0</td>\n",
       "      <td>0</td>\n",
       "      <td>1</td>\n",
       "      <td>0</td>\n",
       "      <td>0</td>\n",
       "      <td>1</td>\n",
       "      <td>0</td>\n",
       "      <td>0</td>\n",
       "      <td>1</td>\n",
       "      <td>0</td>\n",
       "      <td>0</td>\n",
       "      <td>0</td>\n",
       "      <td>1</td>\n",
       "    </tr>\n",
       "    <tr>\n",
       "      <th>4</th>\n",
       "      <td>56</td>\n",
       "      <td>307</td>\n",
       "      <td>1</td>\n",
       "      <td>0</td>\n",
       "      <td>1.1</td>\n",
       "      <td>93.994</td>\n",
       "      <td>-36.4</td>\n",
       "      <td>4.857</td>\n",
       "      <td>5191.0</td>\n",
       "      <td>3</td>\n",
       "      <td>5</td>\n",
       "      <td>1</td>\n",
       "      <td>0</td>\n",
       "      <td>0</td>\n",
       "      <td>0</td>\n",
       "      <td>0</td>\n",
       "      <td>0</td>\n",
       "      <td>0</td>\n",
       "      <td>0</td>\n",
       "      <td>0</td>\n",
       "      <td>0</td>\n",
       "      <td>1</td>\n",
       "      <td>0</td>\n",
       "      <td>0</td>\n",
       "      <td>0</td>\n",
       "      <td>0</td>\n",
       "      <td>0</td>\n",
       "      <td>1</td>\n",
       "      <td>0</td>\n",
       "      <td>0</td>\n",
       "      <td>1</td>\n",
       "      <td>0</td>\n",
       "      <td>0</td>\n",
       "      <td>1</td>\n",
       "      <td>0</td>\n",
       "      <td>0</td>\n",
       "      <td>0</td>\n",
       "      <td>0</td>\n",
       "      <td>1</td>\n",
       "      <td>0</td>\n",
       "      <td>1</td>\n",
       "    </tr>\n",
       "    <tr>\n",
       "      <th>...</th>\n",
       "      <td>...</td>\n",
       "      <td>...</td>\n",
       "      <td>...</td>\n",
       "      <td>...</td>\n",
       "      <td>...</td>\n",
       "      <td>...</td>\n",
       "      <td>...</td>\n",
       "      <td>...</td>\n",
       "      <td>...</td>\n",
       "      <td>...</td>\n",
       "      <td>...</td>\n",
       "      <td>...</td>\n",
       "      <td>...</td>\n",
       "      <td>...</td>\n",
       "      <td>...</td>\n",
       "      <td>...</td>\n",
       "      <td>...</td>\n",
       "      <td>...</td>\n",
       "      <td>...</td>\n",
       "      <td>...</td>\n",
       "      <td>...</td>\n",
       "      <td>...</td>\n",
       "      <td>...</td>\n",
       "      <td>...</td>\n",
       "      <td>...</td>\n",
       "      <td>...</td>\n",
       "      <td>...</td>\n",
       "      <td>...</td>\n",
       "      <td>...</td>\n",
       "      <td>...</td>\n",
       "      <td>...</td>\n",
       "      <td>...</td>\n",
       "      <td>...</td>\n",
       "      <td>...</td>\n",
       "      <td>...</td>\n",
       "      <td>...</td>\n",
       "      <td>...</td>\n",
       "      <td>...</td>\n",
       "      <td>...</td>\n",
       "      <td>...</td>\n",
       "      <td>...</td>\n",
       "    </tr>\n",
       "    <tr>\n",
       "      <th>41183</th>\n",
       "      <td>73</td>\n",
       "      <td>334</td>\n",
       "      <td>1</td>\n",
       "      <td>0</td>\n",
       "      <td>-1.1</td>\n",
       "      <td>94.767</td>\n",
       "      <td>-50.8</td>\n",
       "      <td>1.028</td>\n",
       "      <td>4963.6</td>\n",
       "      <td>5</td>\n",
       "      <td>11</td>\n",
       "      <td>5</td>\n",
       "      <td>0</td>\n",
       "      <td>1</td>\n",
       "      <td>0</td>\n",
       "      <td>0</td>\n",
       "      <td>0</td>\n",
       "      <td>0</td>\n",
       "      <td>0</td>\n",
       "      <td>1</td>\n",
       "      <td>0</td>\n",
       "      <td>0</td>\n",
       "      <td>0</td>\n",
       "      <td>0</td>\n",
       "      <td>0</td>\n",
       "      <td>0</td>\n",
       "      <td>0</td>\n",
       "      <td>1</td>\n",
       "      <td>0</td>\n",
       "      <td>0</td>\n",
       "      <td>1</td>\n",
       "      <td>0</td>\n",
       "      <td>0</td>\n",
       "      <td>0</td>\n",
       "      <td>0</td>\n",
       "      <td>1</td>\n",
       "      <td>1</td>\n",
       "      <td>0</td>\n",
       "      <td>0</td>\n",
       "      <td>1</td>\n",
       "      <td>0</td>\n",
       "    </tr>\n",
       "    <tr>\n",
       "      <th>41184</th>\n",
       "      <td>46</td>\n",
       "      <td>383</td>\n",
       "      <td>1</td>\n",
       "      <td>0</td>\n",
       "      <td>-1.1</td>\n",
       "      <td>94.767</td>\n",
       "      <td>-50.8</td>\n",
       "      <td>1.028</td>\n",
       "      <td>4963.6</td>\n",
       "      <td>5</td>\n",
       "      <td>11</td>\n",
       "      <td>5</td>\n",
       "      <td>0</td>\n",
       "      <td>0</td>\n",
       "      <td>0</td>\n",
       "      <td>1</td>\n",
       "      <td>0</td>\n",
       "      <td>0</td>\n",
       "      <td>0</td>\n",
       "      <td>0</td>\n",
       "      <td>0</td>\n",
       "      <td>0</td>\n",
       "      <td>0</td>\n",
       "      <td>0</td>\n",
       "      <td>0</td>\n",
       "      <td>0</td>\n",
       "      <td>0</td>\n",
       "      <td>1</td>\n",
       "      <td>0</td>\n",
       "      <td>0</td>\n",
       "      <td>1</td>\n",
       "      <td>0</td>\n",
       "      <td>0</td>\n",
       "      <td>1</td>\n",
       "      <td>0</td>\n",
       "      <td>0</td>\n",
       "      <td>1</td>\n",
       "      <td>0</td>\n",
       "      <td>0</td>\n",
       "      <td>1</td>\n",
       "      <td>0</td>\n",
       "    </tr>\n",
       "    <tr>\n",
       "      <th>41185</th>\n",
       "      <td>56</td>\n",
       "      <td>189</td>\n",
       "      <td>2</td>\n",
       "      <td>0</td>\n",
       "      <td>-1.1</td>\n",
       "      <td>94.767</td>\n",
       "      <td>-50.8</td>\n",
       "      <td>1.028</td>\n",
       "      <td>4963.6</td>\n",
       "      <td>4</td>\n",
       "      <td>11</td>\n",
       "      <td>5</td>\n",
       "      <td>0</td>\n",
       "      <td>0</td>\n",
       "      <td>0</td>\n",
       "      <td>0</td>\n",
       "      <td>0</td>\n",
       "      <td>0</td>\n",
       "      <td>0</td>\n",
       "      <td>1</td>\n",
       "      <td>0</td>\n",
       "      <td>0</td>\n",
       "      <td>0</td>\n",
       "      <td>0</td>\n",
       "      <td>0</td>\n",
       "      <td>0</td>\n",
       "      <td>0</td>\n",
       "      <td>1</td>\n",
       "      <td>0</td>\n",
       "      <td>0</td>\n",
       "      <td>1</td>\n",
       "      <td>0</td>\n",
       "      <td>0</td>\n",
       "      <td>0</td>\n",
       "      <td>0</td>\n",
       "      <td>1</td>\n",
       "      <td>1</td>\n",
       "      <td>0</td>\n",
       "      <td>0</td>\n",
       "      <td>1</td>\n",
       "      <td>0</td>\n",
       "    </tr>\n",
       "    <tr>\n",
       "      <th>41186</th>\n",
       "      <td>44</td>\n",
       "      <td>442</td>\n",
       "      <td>1</td>\n",
       "      <td>0</td>\n",
       "      <td>-1.1</td>\n",
       "      <td>94.767</td>\n",
       "      <td>-50.8</td>\n",
       "      <td>1.028</td>\n",
       "      <td>4963.6</td>\n",
       "      <td>5</td>\n",
       "      <td>11</td>\n",
       "      <td>5</td>\n",
       "      <td>0</td>\n",
       "      <td>1</td>\n",
       "      <td>0</td>\n",
       "      <td>0</td>\n",
       "      <td>0</td>\n",
       "      <td>0</td>\n",
       "      <td>0</td>\n",
       "      <td>0</td>\n",
       "      <td>0</td>\n",
       "      <td>0</td>\n",
       "      <td>0</td>\n",
       "      <td>1</td>\n",
       "      <td>0</td>\n",
       "      <td>0</td>\n",
       "      <td>0</td>\n",
       "      <td>1</td>\n",
       "      <td>0</td>\n",
       "      <td>0</td>\n",
       "      <td>1</td>\n",
       "      <td>0</td>\n",
       "      <td>0</td>\n",
       "      <td>1</td>\n",
       "      <td>0</td>\n",
       "      <td>0</td>\n",
       "      <td>1</td>\n",
       "      <td>0</td>\n",
       "      <td>0</td>\n",
       "      <td>1</td>\n",
       "      <td>0</td>\n",
       "    </tr>\n",
       "    <tr>\n",
       "      <th>41187</th>\n",
       "      <td>74</td>\n",
       "      <td>239</td>\n",
       "      <td>3</td>\n",
       "      <td>1</td>\n",
       "      <td>-1.1</td>\n",
       "      <td>94.767</td>\n",
       "      <td>-50.8</td>\n",
       "      <td>1.028</td>\n",
       "      <td>4963.6</td>\n",
       "      <td>5</td>\n",
       "      <td>11</td>\n",
       "      <td>5</td>\n",
       "      <td>1</td>\n",
       "      <td>0</td>\n",
       "      <td>0</td>\n",
       "      <td>0</td>\n",
       "      <td>0</td>\n",
       "      <td>0</td>\n",
       "      <td>0</td>\n",
       "      <td>1</td>\n",
       "      <td>0</td>\n",
       "      <td>0</td>\n",
       "      <td>0</td>\n",
       "      <td>0</td>\n",
       "      <td>0</td>\n",
       "      <td>0</td>\n",
       "      <td>0</td>\n",
       "      <td>1</td>\n",
       "      <td>0</td>\n",
       "      <td>0</td>\n",
       "      <td>1</td>\n",
       "      <td>0</td>\n",
       "      <td>0</td>\n",
       "      <td>0</td>\n",
       "      <td>0</td>\n",
       "      <td>1</td>\n",
       "      <td>1</td>\n",
       "      <td>0</td>\n",
       "      <td>0</td>\n",
       "      <td>1</td>\n",
       "      <td>0</td>\n",
       "    </tr>\n",
       "  </tbody>\n",
       "</table>\n",
       "<p>41188 rows × 41 columns</p>\n",
       "</div>"
      ],
      "text/plain": [
       "       age  duration  campaign  previous  emp.var.rate  cons.price.idx  \\\n",
       "0       56       261         1         0           1.1          93.994   \n",
       "1       57       149         1         0           1.1          93.994   \n",
       "2       37       226         1         0           1.1          93.994   \n",
       "3       40       151         1         0           1.1          93.994   \n",
       "4       56       307         1         0           1.1          93.994   \n",
       "...    ...       ...       ...       ...           ...             ...   \n",
       "41183   73       334         1         0          -1.1          94.767   \n",
       "41184   46       383         1         0          -1.1          94.767   \n",
       "41185   56       189         2         0          -1.1          94.767   \n",
       "41186   44       442         1         0          -1.1          94.767   \n",
       "41187   74       239         3         1          -1.1          94.767   \n",
       "\n",
       "       cons.conf.idx  euribor3m  nr.employed  education  month  day_of_week  \\\n",
       "0              -36.4      4.857       5191.0          2      5            1   \n",
       "1              -36.4      4.857       5191.0          3      5            1   \n",
       "2              -36.4      4.857       5191.0          3      5            1   \n",
       "3              -36.4      4.857       5191.0          2      5            1   \n",
       "4              -36.4      4.857       5191.0          3      5            1   \n",
       "...              ...        ...          ...        ...    ...          ...   \n",
       "41183          -50.8      1.028       4963.6          5     11            5   \n",
       "41184          -50.8      1.028       4963.6          5     11            5   \n",
       "41185          -50.8      1.028       4963.6          4     11            5   \n",
       "41186          -50.8      1.028       4963.6          5     11            5   \n",
       "41187          -50.8      1.028       4963.6          5     11            5   \n",
       "\n",
       "       poutcome  y  job_admin.  job_blue-collar  job_entrepreneur  \\\n",
       "0             0  0           0                0                 0   \n",
       "1             0  0           0                0                 0   \n",
       "2             0  0           0                0                 0   \n",
       "3             0  0           1                0                 0   \n",
       "4             0  0           0                0                 0   \n",
       "...         ... ..         ...              ...               ...   \n",
       "41183         0  1           0                0                 0   \n",
       "41184         0  0           0                1                 0   \n",
       "41185         0  0           0                0                 0   \n",
       "41186         0  1           0                0                 0   \n",
       "41187         1  0           0                0                 0   \n",
       "\n",
       "       job_housemaid  job_management  job_retired  job_self-employed  \\\n",
       "0                  1               0            0                  0   \n",
       "1                  0               0            0                  0   \n",
       "2                  0               0            0                  0   \n",
       "3                  0               0            0                  0   \n",
       "4                  0               0            0                  0   \n",
       "...              ...             ...          ...                ...   \n",
       "41183              0               0            1                  0   \n",
       "41184              0               0            0                  0   \n",
       "41185              0               0            1                  0   \n",
       "41186              0               0            0                  0   \n",
       "41187              0               0            1                  0   \n",
       "\n",
       "       job_services  job_student  job_technician  job_unemployed  job_unknown  \\\n",
       "0                 0            0               0               0            0   \n",
       "1                 1            0               0               0            0   \n",
       "2                 1            0               0               0            0   \n",
       "3                 0            0               0               0            0   \n",
       "4                 1            0               0               0            0   \n",
       "...             ...          ...             ...             ...          ...   \n",
       "41183             0            0               0               0            0   \n",
       "41184             0            0               0               0            0   \n",
       "41185             0            0               0               0            0   \n",
       "41186             0            0               1               0            0   \n",
       "41187             0            0               0               0            0   \n",
       "\n",
       "       marital_divorced  marital_married  marital_single  marital_unknown  \\\n",
       "0                     0                1               0                0   \n",
       "1                     0                1               0                0   \n",
       "2                     0                1               0                0   \n",
       "3                     0                1               0                0   \n",
       "4                     0                1               0                0   \n",
       "...                 ...              ...             ...              ...   \n",
       "41183                 0                1               0                0   \n",
       "41184                 0                1               0                0   \n",
       "41185                 0                1               0                0   \n",
       "41186                 0                1               0                0   \n",
       "41187                 0                1               0                0   \n",
       "\n",
       "       default_no  default_unknown  default_yes  housing_no  housing_unknown  \\\n",
       "0               1                0            0           1                0   \n",
       "1               0                1            0           1                0   \n",
       "2               1                0            0           0                0   \n",
       "3               1                0            0           1                0   \n",
       "4               1                0            0           1                0   \n",
       "...           ...              ...          ...         ...              ...   \n",
       "41183           1                0            0           0                0   \n",
       "41184           1                0            0           1                0   \n",
       "41185           1                0            0           0                0   \n",
       "41186           1                0            0           1                0   \n",
       "41187           1                0            0           0                0   \n",
       "\n",
       "       housing_yes  loan_no  loan_unknown  loan_yes  contact_cellular  \\\n",
       "0                0        1             0         0                 0   \n",
       "1                0        1             0         0                 0   \n",
       "2                1        1             0         0                 0   \n",
       "3                0        1             0         0                 0   \n",
       "4                0        0             0         1                 0   \n",
       "...            ...      ...           ...       ...               ...   \n",
       "41183            1        1             0         0                 1   \n",
       "41184            0        1             0         0                 1   \n",
       "41185            1        1             0         0                 1   \n",
       "41186            0        1             0         0                 1   \n",
       "41187            1        1             0         0                 1   \n",
       "\n",
       "       contact_telephone  \n",
       "0                      1  \n",
       "1                      1  \n",
       "2                      1  \n",
       "3                      1  \n",
       "4                      1  \n",
       "...                  ...  \n",
       "41183                  0  \n",
       "41184                  0  \n",
       "41185                  0  \n",
       "41186                  0  \n",
       "41187                  0  \n",
       "\n",
       "[41188 rows x 41 columns]"
      ]
     },
     "execution_count": 42,
     "metadata": {},
     "output_type": "execute_result"
    }
   ],
   "source": [
    "df"
   ]
  },
  {
   "cell_type": "code",
   "execution_count": 43,
   "id": "dbbf3cd9",
   "metadata": {
    "execution": {
     "iopub.execute_input": "2022-05-19T19:05:01.894426Z",
     "iopub.status.busy": "2022-05-19T19:05:01.894029Z",
     "iopub.status.idle": "2022-05-19T19:05:01.898220Z",
     "shell.execute_reply": "2022-05-19T19:05:01.897096Z"
    },
    "papermill": {
     "duration": 0.147162,
     "end_time": "2022-05-19T19:05:01.900487",
     "exception": false,
     "start_time": "2022-05-19T19:05:01.753325",
     "status": "completed"
    },
    "tags": []
   },
   "outputs": [],
   "source": [
    "from sklearn.preprocessing import StandardScaler\n",
    "from sklearn.linear_model import LogisticRegression\n",
    "from sklearn.model_selection import train_test_split\n",
    "from sklearn.metrics import classification_report,confusion_matrix,accuracy_score\n",
    "from sklearn.ensemble import RandomForestClassifier"
   ]
  },
  {
   "cell_type": "code",
   "execution_count": 44,
   "id": "68121ad8",
   "metadata": {
    "execution": {
     "iopub.execute_input": "2022-05-19T19:05:02.177474Z",
     "iopub.status.busy": "2022-05-19T19:05:02.176601Z",
     "iopub.status.idle": "2022-05-19T19:05:03.187212Z",
     "shell.execute_reply": "2022-05-19T19:05:03.186578Z"
    },
    "papermill": {
     "duration": 1.149977,
     "end_time": "2022-05-19T19:05:03.189446",
     "exception": false,
     "start_time": "2022-05-19T19:05:02.039469",
     "status": "completed"
    },
    "tags": []
   },
   "outputs": [
    {
     "data": {
      "text/html": [
       "<style>#sk-container-id-1 {color: black;background-color: white;}#sk-container-id-1 pre{padding: 0;}#sk-container-id-1 div.sk-toggleable {background-color: white;}#sk-container-id-1 label.sk-toggleable__label {cursor: pointer;display: block;width: 100%;margin-bottom: 0;padding: 0.3em;box-sizing: border-box;text-align: center;}#sk-container-id-1 label.sk-toggleable__label-arrow:before {content: \"▸\";float: left;margin-right: 0.25em;color: #696969;}#sk-container-id-1 label.sk-toggleable__label-arrow:hover:before {color: black;}#sk-container-id-1 div.sk-estimator:hover label.sk-toggleable__label-arrow:before {color: black;}#sk-container-id-1 div.sk-toggleable__content {max-height: 0;max-width: 0;overflow: hidden;text-align: left;background-color: #f0f8ff;}#sk-container-id-1 div.sk-toggleable__content pre {margin: 0.2em;color: black;border-radius: 0.25em;background-color: #f0f8ff;}#sk-container-id-1 input.sk-toggleable__control:checked~div.sk-toggleable__content {max-height: 200px;max-width: 100%;overflow: auto;}#sk-container-id-1 input.sk-toggleable__control:checked~label.sk-toggleable__label-arrow:before {content: \"▾\";}#sk-container-id-1 div.sk-estimator input.sk-toggleable__control:checked~label.sk-toggleable__label {background-color: #d4ebff;}#sk-container-id-1 div.sk-label input.sk-toggleable__control:checked~label.sk-toggleable__label {background-color: #d4ebff;}#sk-container-id-1 input.sk-hidden--visually {border: 0;clip: rect(1px 1px 1px 1px);clip: rect(1px, 1px, 1px, 1px);height: 1px;margin: -1px;overflow: hidden;padding: 0;position: absolute;width: 1px;}#sk-container-id-1 div.sk-estimator {font-family: monospace;background-color: #f0f8ff;border: 1px dotted black;border-radius: 0.25em;box-sizing: border-box;margin-bottom: 0.5em;}#sk-container-id-1 div.sk-estimator:hover {background-color: #d4ebff;}#sk-container-id-1 div.sk-parallel-item::after {content: \"\";width: 100%;border-bottom: 1px solid gray;flex-grow: 1;}#sk-container-id-1 div.sk-label:hover label.sk-toggleable__label {background-color: #d4ebff;}#sk-container-id-1 div.sk-serial::before {content: \"\";position: absolute;border-left: 1px solid gray;box-sizing: border-box;top: 0;bottom: 0;left: 50%;z-index: 0;}#sk-container-id-1 div.sk-serial {display: flex;flex-direction: column;align-items: center;background-color: white;padding-right: 0.2em;padding-left: 0.2em;position: relative;}#sk-container-id-1 div.sk-item {position: relative;z-index: 1;}#sk-container-id-1 div.sk-parallel {display: flex;align-items: stretch;justify-content: center;background-color: white;position: relative;}#sk-container-id-1 div.sk-item::before, #sk-container-id-1 div.sk-parallel-item::before {content: \"\";position: absolute;border-left: 1px solid gray;box-sizing: border-box;top: 0;bottom: 0;left: 50%;z-index: -1;}#sk-container-id-1 div.sk-parallel-item {display: flex;flex-direction: column;z-index: 1;position: relative;background-color: white;}#sk-container-id-1 div.sk-parallel-item:first-child::after {align-self: flex-end;width: 50%;}#sk-container-id-1 div.sk-parallel-item:last-child::after {align-self: flex-start;width: 50%;}#sk-container-id-1 div.sk-parallel-item:only-child::after {width: 0;}#sk-container-id-1 div.sk-dashed-wrapped {border: 1px dashed gray;margin: 0 0.4em 0.5em 0.4em;box-sizing: border-box;padding-bottom: 0.4em;background-color: white;}#sk-container-id-1 div.sk-label label {font-family: monospace;font-weight: bold;display: inline-block;line-height: 1.2em;}#sk-container-id-1 div.sk-label-container {text-align: center;}#sk-container-id-1 div.sk-container {/* jupyter's `normalize.less` sets `[hidden] { display: none; }` but bootstrap.min.css set `[hidden] { display: none !important; }` so we also need the `!important` here to be able to override the default hidden behavior on the sphinx rendered scikit-learn.org. See: https://github.com/scikit-learn/scikit-learn/issues/21755 */display: inline-block !important;position: relative;}#sk-container-id-1 div.sk-text-repr-fallback {display: none;}</style><div id=\"sk-container-id-1\" class=\"sk-top-container\"><div class=\"sk-text-repr-fallback\"><pre>RandomForestClassifier(n_estimators=50, n_jobs=-1, oob_score=True,\n",
       "                       random_state=1)</pre><b>In a Jupyter environment, please rerun this cell to show the HTML representation or trust the notebook. <br />On GitHub, the HTML representation is unable to render, please try loading this page with nbviewer.org.</b></div><div class=\"sk-container\" hidden><div class=\"sk-item\"><div class=\"sk-estimator sk-toggleable\"><input class=\"sk-toggleable__control sk-hidden--visually\" id=\"sk-estimator-id-1\" type=\"checkbox\" checked><label for=\"sk-estimator-id-1\" class=\"sk-toggleable__label sk-toggleable__label-arrow\">RandomForestClassifier</label><div class=\"sk-toggleable__content\"><pre>RandomForestClassifier(n_estimators=50, n_jobs=-1, oob_score=True,\n",
       "                       random_state=1)</pre></div></div></div></div></div>"
      ],
      "text/plain": [
       "RandomForestClassifier(n_estimators=50, n_jobs=-1, oob_score=True,\n",
       "                       random_state=1)"
      ]
     },
     "execution_count": 44,
     "metadata": {},
     "output_type": "execute_result"
    }
   ],
   "source": [
    "x=df.drop('y',axis=1)\n",
    "y=df['y']\n",
    "\n",
    "x_train,x_test,y_train,y_test=train_test_split(x,y,test_size=0.25,random_state=1)\n",
    "\n",
    "RFC=RandomForestClassifier(n_estimators=50,n_jobs=-1,oob_score=True,random_state=1)\n",
    "\n",
    "RFC.fit(x_train,y_train)"
   ]
  },
  {
   "cell_type": "markdown",
   "id": "0b62ea98",
   "metadata": {
    "papermill": {
     "duration": 0.145489,
     "end_time": "2022-05-19T19:05:03.472933",
     "exception": false,
     "start_time": "2022-05-19T19:05:03.327444",
     "status": "completed"
    },
    "tags": []
   },
   "source": [
    "#### c. Selecting important features based on Random Forest"
   ]
  },
  {
   "cell_type": "code",
   "execution_count": 45,
   "id": "f35840b3",
   "metadata": {
    "execution": {
     "iopub.execute_input": "2022-05-19T19:05:03.747563Z",
     "iopub.status.busy": "2022-05-19T19:05:03.747139Z",
     "iopub.status.idle": "2022-05-19T19:05:03.863794Z",
     "shell.execute_reply": "2022-05-19T19:05:03.862978Z"
    },
    "papermill": {
     "duration": 0.255554,
     "end_time": "2022-05-19T19:05:03.865550",
     "exception": false,
     "start_time": "2022-05-19T19:05:03.609996",
     "status": "completed"
    },
    "tags": []
   },
   "outputs": [
    {
     "data": {
      "text/html": [
       "<div>\n",
       "<style scoped>\n",
       "    .dataframe tbody tr th:only-of-type {\n",
       "        vertical-align: middle;\n",
       "    }\n",
       "\n",
       "    .dataframe tbody tr th {\n",
       "        vertical-align: top;\n",
       "    }\n",
       "\n",
       "    .dataframe thead th {\n",
       "        text-align: right;\n",
       "    }\n",
       "</style>\n",
       "<table border=\"1\" class=\"dataframe\">\n",
       "  <thead>\n",
       "    <tr style=\"text-align: right;\">\n",
       "      <th></th>\n",
       "      <th>colname</th>\n",
       "      <th>count</th>\n",
       "    </tr>\n",
       "  </thead>\n",
       "  <tbody>\n",
       "    <tr>\n",
       "      <th>1</th>\n",
       "      <td>duration</td>\n",
       "      <td>0.301962</td>\n",
       "    </tr>\n",
       "    <tr>\n",
       "      <th>7</th>\n",
       "      <td>euribor3m</td>\n",
       "      <td>0.103818</td>\n",
       "    </tr>\n",
       "    <tr>\n",
       "      <th>0</th>\n",
       "      <td>age</td>\n",
       "      <td>0.083847</td>\n",
       "    </tr>\n",
       "    <tr>\n",
       "      <th>8</th>\n",
       "      <td>nr.employed</td>\n",
       "      <td>0.052472</td>\n",
       "    </tr>\n",
       "    <tr>\n",
       "      <th>12</th>\n",
       "      <td>poutcome</td>\n",
       "      <td>0.043710</td>\n",
       "    </tr>\n",
       "    <tr>\n",
       "      <th>2</th>\n",
       "      <td>campaign</td>\n",
       "      <td>0.039992</td>\n",
       "    </tr>\n",
       "    <tr>\n",
       "      <th>11</th>\n",
       "      <td>day_of_week</td>\n",
       "      <td>0.039732</td>\n",
       "    </tr>\n",
       "    <tr>\n",
       "      <th>9</th>\n",
       "      <td>education</td>\n",
       "      <td>0.034529</td>\n",
       "    </tr>\n",
       "    <tr>\n",
       "      <th>4</th>\n",
       "      <td>emp.var.rate</td>\n",
       "      <td>0.029586</td>\n",
       "    </tr>\n",
       "    <tr>\n",
       "      <th>6</th>\n",
       "      <td>cons.conf.idx</td>\n",
       "      <td>0.029385</td>\n",
       "    </tr>\n",
       "    <tr>\n",
       "      <th>5</th>\n",
       "      <td>cons.price.idx</td>\n",
       "      <td>0.028259</td>\n",
       "    </tr>\n",
       "    <tr>\n",
       "      <th>10</th>\n",
       "      <td>month</td>\n",
       "      <td>0.019684</td>\n",
       "    </tr>\n",
       "    <tr>\n",
       "      <th>3</th>\n",
       "      <td>previous</td>\n",
       "      <td>0.016765</td>\n",
       "    </tr>\n",
       "    <tr>\n",
       "      <th>34</th>\n",
       "      <td>housing_yes</td>\n",
       "      <td>0.013277</td>\n",
       "    </tr>\n",
       "    <tr>\n",
       "      <th>13</th>\n",
       "      <td>job_admin.</td>\n",
       "      <td>0.013172</td>\n",
       "    </tr>\n",
       "    <tr>\n",
       "      <th>32</th>\n",
       "      <td>housing_no</td>\n",
       "      <td>0.012645</td>\n",
       "    </tr>\n",
       "    <tr>\n",
       "      <th>26</th>\n",
       "      <td>marital_married</td>\n",
       "      <td>0.011233</td>\n",
       "    </tr>\n",
       "    <tr>\n",
       "      <th>27</th>\n",
       "      <td>marital_single</td>\n",
       "      <td>0.010701</td>\n",
       "    </tr>\n",
       "    <tr>\n",
       "      <th>22</th>\n",
       "      <td>job_technician</td>\n",
       "      <td>0.010099</td>\n",
       "    </tr>\n",
       "    <tr>\n",
       "      <th>35</th>\n",
       "      <td>loan_no</td>\n",
       "      <td>0.009232</td>\n",
       "    </tr>\n",
       "    <tr>\n",
       "      <th>37</th>\n",
       "      <td>loan_yes</td>\n",
       "      <td>0.009057</td>\n",
       "    </tr>\n",
       "    <tr>\n",
       "      <th>14</th>\n",
       "      <td>job_blue-collar</td>\n",
       "      <td>0.008478</td>\n",
       "    </tr>\n",
       "    <tr>\n",
       "      <th>20</th>\n",
       "      <td>job_services</td>\n",
       "      <td>0.007286</td>\n",
       "    </tr>\n",
       "    <tr>\n",
       "      <th>17</th>\n",
       "      <td>job_management</td>\n",
       "      <td>0.007209</td>\n",
       "    </tr>\n",
       "    <tr>\n",
       "      <th>25</th>\n",
       "      <td>marital_divorced</td>\n",
       "      <td>0.007093</td>\n",
       "    </tr>\n",
       "    <tr>\n",
       "      <th>38</th>\n",
       "      <td>contact_cellular</td>\n",
       "      <td>0.006455</td>\n",
       "    </tr>\n",
       "    <tr>\n",
       "      <th>39</th>\n",
       "      <td>contact_telephone</td>\n",
       "      <td>0.006288</td>\n",
       "    </tr>\n",
       "    <tr>\n",
       "      <th>18</th>\n",
       "      <td>job_retired</td>\n",
       "      <td>0.006176</td>\n",
       "    </tr>\n",
       "    <tr>\n",
       "      <th>29</th>\n",
       "      <td>default_no</td>\n",
       "      <td>0.005995</td>\n",
       "    </tr>\n",
       "    <tr>\n",
       "      <th>30</th>\n",
       "      <td>default_unknown</td>\n",
       "      <td>0.005952</td>\n",
       "    </tr>\n",
       "    <tr>\n",
       "      <th>21</th>\n",
       "      <td>job_student</td>\n",
       "      <td>0.004535</td>\n",
       "    </tr>\n",
       "    <tr>\n",
       "      <th>19</th>\n",
       "      <td>job_self-employed</td>\n",
       "      <td>0.004386</td>\n",
       "    </tr>\n",
       "    <tr>\n",
       "      <th>15</th>\n",
       "      <td>job_entrepreneur</td>\n",
       "      <td>0.003779</td>\n",
       "    </tr>\n",
       "    <tr>\n",
       "      <th>23</th>\n",
       "      <td>job_unemployed</td>\n",
       "      <td>0.003730</td>\n",
       "    </tr>\n",
       "    <tr>\n",
       "      <th>16</th>\n",
       "      <td>job_housemaid</td>\n",
       "      <td>0.003512</td>\n",
       "    </tr>\n",
       "    <tr>\n",
       "      <th>33</th>\n",
       "      <td>housing_unknown</td>\n",
       "      <td>0.002047</td>\n",
       "    </tr>\n",
       "    <tr>\n",
       "      <th>36</th>\n",
       "      <td>loan_unknown</td>\n",
       "      <td>0.001792</td>\n",
       "    </tr>\n",
       "    <tr>\n",
       "      <th>24</th>\n",
       "      <td>job_unknown</td>\n",
       "      <td>0.001626</td>\n",
       "    </tr>\n",
       "    <tr>\n",
       "      <th>28</th>\n",
       "      <td>marital_unknown</td>\n",
       "      <td>0.000502</td>\n",
       "    </tr>\n",
       "    <tr>\n",
       "      <th>31</th>\n",
       "      <td>default_yes</td>\n",
       "      <td>0.000000</td>\n",
       "    </tr>\n",
       "  </tbody>\n",
       "</table>\n",
       "</div>"
      ],
      "text/plain": [
       "              colname     count\n",
       "1            duration  0.301962\n",
       "7           euribor3m  0.103818\n",
       "0                 age  0.083847\n",
       "8         nr.employed  0.052472\n",
       "12           poutcome  0.043710\n",
       "2            campaign  0.039992\n",
       "11        day_of_week  0.039732\n",
       "9           education  0.034529\n",
       "4        emp.var.rate  0.029586\n",
       "6       cons.conf.idx  0.029385\n",
       "5      cons.price.idx  0.028259\n",
       "10              month  0.019684\n",
       "3            previous  0.016765\n",
       "34        housing_yes  0.013277\n",
       "13         job_admin.  0.013172\n",
       "32         housing_no  0.012645\n",
       "26    marital_married  0.011233\n",
       "27     marital_single  0.010701\n",
       "22     job_technician  0.010099\n",
       "35            loan_no  0.009232\n",
       "37           loan_yes  0.009057\n",
       "14    job_blue-collar  0.008478\n",
       "20       job_services  0.007286\n",
       "17     job_management  0.007209\n",
       "25   marital_divorced  0.007093\n",
       "38   contact_cellular  0.006455\n",
       "39  contact_telephone  0.006288\n",
       "18        job_retired  0.006176\n",
       "29         default_no  0.005995\n",
       "30    default_unknown  0.005952\n",
       "21        job_student  0.004535\n",
       "19  job_self-employed  0.004386\n",
       "15   job_entrepreneur  0.003779\n",
       "23     job_unemployed  0.003730\n",
       "16      job_housemaid  0.003512\n",
       "33    housing_unknown  0.002047\n",
       "36       loan_unknown  0.001792\n",
       "24        job_unknown  0.001626\n",
       "28    marital_unknown  0.000502\n",
       "31        default_yes  0.000000"
      ]
     },
     "execution_count": 45,
     "metadata": {},
     "output_type": "execute_result"
    }
   ],
   "source": [
    "dfImpFeatures=pd.DataFrame(columns=['colname','count'])\n",
    "dfImpFeatures['colname']=x.columns\n",
    "dfImpFeatures['count']=RFC.feature_importances_\n",
    "dfImpFeatures.sort_values(by='count',ascending=False)"
   ]
  },
  {
   "cell_type": "code",
   "execution_count": 46,
   "id": "d5103dea",
   "metadata": {
    "execution": {
     "iopub.execute_input": "2022-05-19T19:05:04.143329Z",
     "iopub.status.busy": "2022-05-19T19:05:04.142963Z",
     "iopub.status.idle": "2022-05-19T19:05:04.146384Z",
     "shell.execute_reply": "2022-05-19T19:05:04.145968Z"
    },
    "papermill": {
     "duration": 0.144733,
     "end_time": "2022-05-19T19:05:04.148861",
     "exception": false,
     "start_time": "2022-05-19T19:05:04.004128",
     "status": "completed"
    },
    "tags": []
   },
   "outputs": [],
   "source": [
    "# to select the best features we take a Treshold of 0.03\n",
    "Imp=dfImpFeatures[dfImpFeatures['count']>0.03]"
   ]
  },
  {
   "cell_type": "code",
   "execution_count": 47,
   "id": "fed5be73",
   "metadata": {
    "execution": {
     "iopub.execute_input": "2022-05-19T19:05:04.429581Z",
     "iopub.status.busy": "2022-05-19T19:05:04.429229Z",
     "iopub.status.idle": "2022-05-19T19:05:04.435714Z",
     "shell.execute_reply": "2022-05-19T19:05:04.434731Z"
    },
    "papermill": {
     "duration": 0.147761,
     "end_time": "2022-05-19T19:05:04.437423",
     "exception": false,
     "start_time": "2022-05-19T19:05:04.289662",
     "status": "completed"
    },
    "tags": []
   },
   "outputs": [
    {
     "data": {
      "text/plain": [
       "array(['age', 'duration', 'campaign', 'euribor3m', 'nr.employed',\n",
       "       'education', 'day_of_week', 'poutcome'], dtype=object)"
      ]
     },
     "execution_count": 47,
     "metadata": {},
     "output_type": "execute_result"
    }
   ],
   "source": [
    "# to select the best features we take a Treshold of 0.03\n",
    "Impcolumns=Imp['colname'].values\n",
    "Impcolumns"
   ]
  },
  {
   "cell_type": "code",
   "execution_count": 48,
   "id": "ca6cccea",
   "metadata": {
    "execution": {
     "iopub.execute_input": "2022-05-19T19:05:04.715614Z",
     "iopub.status.busy": "2022-05-19T19:05:04.714867Z",
     "iopub.status.idle": "2022-05-19T19:05:04.723521Z",
     "shell.execute_reply": "2022-05-19T19:05:04.721795Z"
    },
    "papermill": {
     "duration": 0.150348,
     "end_time": "2022-05-19T19:05:04.725827",
     "exception": false,
     "start_time": "2022-05-19T19:05:04.575479",
     "status": "completed"
    },
    "tags": []
   },
   "outputs": [
    {
     "data": {
      "text/plain": [
       "0    36548\n",
       "1     4640\n",
       "Name: y, dtype: int64"
      ]
     },
     "execution_count": 48,
     "metadata": {},
     "output_type": "execute_result"
    }
   ],
   "source": [
    "df.y.value_counts()"
   ]
  },
  {
   "cell_type": "markdown",
   "id": "0389f3fe",
   "metadata": {
    "papermill": {
     "duration": 0.095435,
     "end_time": "2022-05-19T19:05:04.921777",
     "exception": false,
     "start_time": "2022-05-19T19:05:04.826342",
     "status": "completed"
    },
    "tags": []
   },
   "source": [
    "#### d. Handling unbalanced data using SMOTE\n"
   ]
  },
  {
   "cell_type": "code",
   "execution_count": 49,
   "id": "0db5b97b",
   "metadata": {
    "execution": {
     "iopub.execute_input": "2022-05-19T19:05:05.112679Z",
     "iopub.status.busy": "2022-05-19T19:05:05.112386Z",
     "iopub.status.idle": "2022-05-19T19:05:05.393793Z",
     "shell.execute_reply": "2022-05-19T19:05:05.392952Z"
    },
    "papermill": {
     "duration": 0.379259,
     "end_time": "2022-05-19T19:05:05.395765",
     "exception": false,
     "start_time": "2022-05-19T19:05:05.016506",
     "status": "completed"
    },
    "tags": []
   },
   "outputs": [],
   "source": [
    "from imblearn.over_sampling import SMOTE\n",
    "\n",
    "x=df[Impcolumns]\n",
    "y=df['y']\n",
    "\n",
    "smote=SMOTE()\n",
    "\n",
    "x_resamp,y_resamp=smote.fit_resample(x,y.ravel())\n",
    "\n",
    "x_train,x_test,y_train,y_test=train_test_split(x_resamp,y_resamp,test_size=0.25,random_state=100)"
   ]
  },
  {
   "cell_type": "markdown",
   "id": "ff69f85b",
   "metadata": {
    "papermill": {
     "duration": 0.091012,
     "end_time": "2022-05-19T19:05:05.580331",
     "exception": false,
     "start_time": "2022-05-19T19:05:05.489319",
     "status": "completed"
    },
    "tags": []
   },
   "source": [
    "#### e. Standard Scaler"
   ]
  },
  {
   "cell_type": "code",
   "execution_count": 50,
   "id": "8ae5f8bd",
   "metadata": {
    "execution": {
     "iopub.execute_input": "2022-05-19T19:05:05.770936Z",
     "iopub.status.busy": "2022-05-19T19:05:05.770464Z",
     "iopub.status.idle": "2022-05-19T19:05:05.787093Z",
     "shell.execute_reply": "2022-05-19T19:05:05.786163Z"
    },
    "papermill": {
     "duration": 0.112708,
     "end_time": "2022-05-19T19:05:05.788987",
     "exception": false,
     "start_time": "2022-05-19T19:05:05.676279",
     "status": "completed"
    },
    "tags": []
   },
   "outputs": [],
   "source": [
    "x=df[Impcolumns]\n",
    "sc=StandardScaler()\n",
    "x_train_sc=sc.fit_transform(x_train)\n",
    "x_test_sc=sc.transform(x_test)"
   ]
  },
  {
   "cell_type": "markdown",
   "id": "e6b8e11a",
   "metadata": {
    "papermill": {
     "duration": 0.091864,
     "end_time": "2022-05-19T19:05:05.975832",
     "exception": false,
     "start_time": "2022-05-19T19:05:05.883968",
     "status": "completed"
    },
    "tags": []
   },
   "source": [
    "## Build the following Supervised Learning models:"
   ]
  },
  {
   "cell_type": "markdown",
   "id": "b7a428be",
   "metadata": {
    "papermill": {
     "duration": 0.09556,
     "end_time": "2022-05-19T19:05:06.167948",
     "exception": false,
     "start_time": "2022-05-19T19:05:06.072388",
     "status": "completed"
    },
    "tags": []
   },
   "source": [
    "### a. Logistic Regression"
   ]
  },
  {
   "cell_type": "code",
   "execution_count": 51,
   "id": "fffcaa25",
   "metadata": {
    "execution": {
     "iopub.execute_input": "2022-05-19T19:05:06.360578Z",
     "iopub.status.busy": "2022-05-19T19:05:06.360104Z",
     "iopub.status.idle": "2022-05-19T19:05:06.511144Z",
     "shell.execute_reply": "2022-05-19T19:05:06.510572Z"
    },
    "papermill": {
     "duration": 0.251226,
     "end_time": "2022-05-19T19:05:06.512988",
     "exception": false,
     "start_time": "2022-05-19T19:05:06.261762",
     "status": "completed"
    },
    "tags": []
   },
   "outputs": [
    {
     "data": {
      "text/html": [
       "<style>#sk-container-id-2 {color: black;background-color: white;}#sk-container-id-2 pre{padding: 0;}#sk-container-id-2 div.sk-toggleable {background-color: white;}#sk-container-id-2 label.sk-toggleable__label {cursor: pointer;display: block;width: 100%;margin-bottom: 0;padding: 0.3em;box-sizing: border-box;text-align: center;}#sk-container-id-2 label.sk-toggleable__label-arrow:before {content: \"▸\";float: left;margin-right: 0.25em;color: #696969;}#sk-container-id-2 label.sk-toggleable__label-arrow:hover:before {color: black;}#sk-container-id-2 div.sk-estimator:hover label.sk-toggleable__label-arrow:before {color: black;}#sk-container-id-2 div.sk-toggleable__content {max-height: 0;max-width: 0;overflow: hidden;text-align: left;background-color: #f0f8ff;}#sk-container-id-2 div.sk-toggleable__content pre {margin: 0.2em;color: black;border-radius: 0.25em;background-color: #f0f8ff;}#sk-container-id-2 input.sk-toggleable__control:checked~div.sk-toggleable__content {max-height: 200px;max-width: 100%;overflow: auto;}#sk-container-id-2 input.sk-toggleable__control:checked~label.sk-toggleable__label-arrow:before {content: \"▾\";}#sk-container-id-2 div.sk-estimator input.sk-toggleable__control:checked~label.sk-toggleable__label {background-color: #d4ebff;}#sk-container-id-2 div.sk-label input.sk-toggleable__control:checked~label.sk-toggleable__label {background-color: #d4ebff;}#sk-container-id-2 input.sk-hidden--visually {border: 0;clip: rect(1px 1px 1px 1px);clip: rect(1px, 1px, 1px, 1px);height: 1px;margin: -1px;overflow: hidden;padding: 0;position: absolute;width: 1px;}#sk-container-id-2 div.sk-estimator {font-family: monospace;background-color: #f0f8ff;border: 1px dotted black;border-radius: 0.25em;box-sizing: border-box;margin-bottom: 0.5em;}#sk-container-id-2 div.sk-estimator:hover {background-color: #d4ebff;}#sk-container-id-2 div.sk-parallel-item::after {content: \"\";width: 100%;border-bottom: 1px solid gray;flex-grow: 1;}#sk-container-id-2 div.sk-label:hover label.sk-toggleable__label {background-color: #d4ebff;}#sk-container-id-2 div.sk-serial::before {content: \"\";position: absolute;border-left: 1px solid gray;box-sizing: border-box;top: 0;bottom: 0;left: 50%;z-index: 0;}#sk-container-id-2 div.sk-serial {display: flex;flex-direction: column;align-items: center;background-color: white;padding-right: 0.2em;padding-left: 0.2em;position: relative;}#sk-container-id-2 div.sk-item {position: relative;z-index: 1;}#sk-container-id-2 div.sk-parallel {display: flex;align-items: stretch;justify-content: center;background-color: white;position: relative;}#sk-container-id-2 div.sk-item::before, #sk-container-id-2 div.sk-parallel-item::before {content: \"\";position: absolute;border-left: 1px solid gray;box-sizing: border-box;top: 0;bottom: 0;left: 50%;z-index: -1;}#sk-container-id-2 div.sk-parallel-item {display: flex;flex-direction: column;z-index: 1;position: relative;background-color: white;}#sk-container-id-2 div.sk-parallel-item:first-child::after {align-self: flex-end;width: 50%;}#sk-container-id-2 div.sk-parallel-item:last-child::after {align-self: flex-start;width: 50%;}#sk-container-id-2 div.sk-parallel-item:only-child::after {width: 0;}#sk-container-id-2 div.sk-dashed-wrapped {border: 1px dashed gray;margin: 0 0.4em 0.5em 0.4em;box-sizing: border-box;padding-bottom: 0.4em;background-color: white;}#sk-container-id-2 div.sk-label label {font-family: monospace;font-weight: bold;display: inline-block;line-height: 1.2em;}#sk-container-id-2 div.sk-label-container {text-align: center;}#sk-container-id-2 div.sk-container {/* jupyter's `normalize.less` sets `[hidden] { display: none; }` but bootstrap.min.css set `[hidden] { display: none !important; }` so we also need the `!important` here to be able to override the default hidden behavior on the sphinx rendered scikit-learn.org. See: https://github.com/scikit-learn/scikit-learn/issues/21755 */display: inline-block !important;position: relative;}#sk-container-id-2 div.sk-text-repr-fallback {display: none;}</style><div id=\"sk-container-id-2\" class=\"sk-top-container\"><div class=\"sk-text-repr-fallback\"><pre>LogisticRegression()</pre><b>In a Jupyter environment, please rerun this cell to show the HTML representation or trust the notebook. <br />On GitHub, the HTML representation is unable to render, please try loading this page with nbviewer.org.</b></div><div class=\"sk-container\" hidden><div class=\"sk-item\"><div class=\"sk-estimator sk-toggleable\"><input class=\"sk-toggleable__control sk-hidden--visually\" id=\"sk-estimator-id-2\" type=\"checkbox\" checked><label for=\"sk-estimator-id-2\" class=\"sk-toggleable__label sk-toggleable__label-arrow\">LogisticRegression</label><div class=\"sk-toggleable__content\"><pre>LogisticRegression()</pre></div></div></div></div></div>"
      ],
      "text/plain": [
       "LogisticRegression()"
      ]
     },
     "execution_count": 51,
     "metadata": {},
     "output_type": "execute_result"
    }
   ],
   "source": [
    "lr=LogisticRegression()\n",
    "\n",
    "lr.fit(x_train_sc,y_train)"
   ]
  },
  {
   "cell_type": "code",
   "execution_count": 52,
   "id": "3e2992a9",
   "metadata": {
    "execution": {
     "iopub.execute_input": "2022-05-19T19:05:06.725801Z",
     "iopub.status.busy": "2022-05-19T19:05:06.725464Z",
     "iopub.status.idle": "2022-05-19T19:05:06.732902Z",
     "shell.execute_reply": "2022-05-19T19:05:06.732225Z"
    },
    "papermill": {
     "duration": 0.10432,
     "end_time": "2022-05-19T19:05:06.735462",
     "exception": false,
     "start_time": "2022-05-19T19:05:06.631142",
     "status": "completed"
    },
    "tags": []
   },
   "outputs": [],
   "source": [
    "train_pred=lr.predict(x_train_sc)"
   ]
  },
  {
   "cell_type": "code",
   "execution_count": 53,
   "id": "78462200",
   "metadata": {
    "execution": {
     "iopub.execute_input": "2022-05-19T19:05:06.948931Z",
     "iopub.status.busy": "2022-05-19T19:05:06.948666Z",
     "iopub.status.idle": "2022-05-19T19:05:06.955115Z",
     "shell.execute_reply": "2022-05-19T19:05:06.954418Z"
    },
    "papermill": {
     "duration": 0.102587,
     "end_time": "2022-05-19T19:05:06.956975",
     "exception": false,
     "start_time": "2022-05-19T19:05:06.854388",
     "status": "completed"
    },
    "tags": []
   },
   "outputs": [],
   "source": [
    "test_pred=lr.predict(x_test_sc)"
   ]
  },
  {
   "cell_type": "code",
   "execution_count": 54,
   "id": "7b30e799",
   "metadata": {
    "execution": {
     "iopub.execute_input": "2022-05-19T19:05:07.172649Z",
     "iopub.status.busy": "2022-05-19T19:05:07.172360Z",
     "iopub.status.idle": "2022-05-19T19:05:07.282410Z",
     "shell.execute_reply": "2022-05-19T19:05:07.280440Z"
    },
    "papermill": {
     "duration": 0.2076,
     "end_time": "2022-05-19T19:05:07.284786",
     "exception": false,
     "start_time": "2022-05-19T19:05:07.077186",
     "status": "completed"
    },
    "tags": []
   },
   "outputs": [
    {
     "name": "stdout",
     "output_type": "stream",
     "text": [
      "              precision    recall  f1-score   support\n",
      "\n",
      "           0       0.85      0.84      0.84     27447\n",
      "           1       0.84      0.85      0.85     27375\n",
      "\n",
      "    accuracy                           0.85     54822\n",
      "   macro avg       0.85      0.85      0.85     54822\n",
      "weighted avg       0.85      0.85      0.85     54822\n",
      "\n",
      "              precision    recall  f1-score   support\n",
      "\n",
      "           0       0.85      0.84      0.84      9101\n",
      "           1       0.84      0.85      0.84      9173\n",
      "\n",
      "    accuracy                           0.84     18274\n",
      "   macro avg       0.84      0.84      0.84     18274\n",
      "weighted avg       0.84      0.84      0.84     18274\n",
      "\n"
     ]
    }
   ],
   "source": [
    "print(classification_report(y_train,train_pred))\n",
    "print(classification_report(y_test,test_pred))"
   ]
  },
  {
   "cell_type": "code",
   "execution_count": 55,
   "id": "9840580f",
   "metadata": {
    "execution": {
     "iopub.execute_input": "2022-05-19T19:05:07.473496Z",
     "iopub.status.busy": "2022-05-19T19:05:07.472149Z",
     "iopub.status.idle": "2022-05-19T19:05:07.482391Z",
     "shell.execute_reply": "2022-05-19T19:05:07.481542Z"
    },
    "papermill": {
     "duration": 0.106194,
     "end_time": "2022-05-19T19:05:07.484313",
     "exception": false,
     "start_time": "2022-05-19T19:05:07.378119",
     "status": "completed"
    },
    "tags": []
   },
   "outputs": [
    {
     "data": {
      "text/plain": [
       "0.8431651526759331"
      ]
     },
     "execution_count": 55,
     "metadata": {},
     "output_type": "execute_result"
    }
   ],
   "source": [
    "log_full_accuracy = accuracy_score(y_test,test_pred)\n",
    "log_full_accuracy "
   ]
  },
  {
   "cell_type": "markdown",
   "id": "b30e5059",
   "metadata": {
    "papermill": {
     "duration": 0.139248,
     "end_time": "2022-05-19T19:05:07.767194",
     "exception": false,
     "start_time": "2022-05-19T19:05:07.627946",
     "status": "completed"
    },
    "tags": []
   },
   "source": [
    "from above we can tell the model is good as we are getting a accuracy of 85% with good recall and precision"
   ]
  },
  {
   "cell_type": "markdown",
   "id": "22d85751",
   "metadata": {
    "papermill": {
     "duration": 0.141462,
     "end_time": "2022-05-19T19:05:08.050954",
     "exception": false,
     "start_time": "2022-05-19T19:05:07.909492",
     "status": "completed"
    },
    "tags": []
   },
   "source": [
    "### b. AdaBoost"
   ]
  },
  {
   "cell_type": "code",
   "execution_count": 56,
   "id": "78356f48",
   "metadata": {
    "execution": {
     "iopub.execute_input": "2022-05-19T19:05:08.339769Z",
     "iopub.status.busy": "2022-05-19T19:05:08.339371Z",
     "iopub.status.idle": "2022-05-19T19:05:08.342597Z",
     "shell.execute_reply": "2022-05-19T19:05:08.341854Z"
    },
    "papermill": {
     "duration": 0.149851,
     "end_time": "2022-05-19T19:05:08.345527",
     "exception": false,
     "start_time": "2022-05-19T19:05:08.195676",
     "status": "completed"
    },
    "tags": []
   },
   "outputs": [],
   "source": [
    "from sklearn.ensemble import AdaBoostClassifier\n",
    "ada=AdaBoostClassifier()"
   ]
  },
  {
   "cell_type": "code",
   "execution_count": 57,
   "id": "de52e81c",
   "metadata": {
    "execution": {
     "iopub.execute_input": "2022-05-19T19:05:08.630394Z",
     "iopub.status.busy": "2022-05-19T19:05:08.630175Z",
     "iopub.status.idle": "2022-05-19T19:05:10.824916Z",
     "shell.execute_reply": "2022-05-19T19:05:10.823891Z"
    },
    "papermill": {
     "duration": 2.337166,
     "end_time": "2022-05-19T19:05:10.827292",
     "exception": false,
     "start_time": "2022-05-19T19:05:08.490126",
     "status": "completed"
    },
    "tags": []
   },
   "outputs": [],
   "source": [
    "ada.fit(x_train_sc,y_train)\n",
    "\n",
    "train_pred=ada.predict(x_train_sc)\n",
    "\n",
    "test_pred=ada.predict(x_test_sc)"
   ]
  },
  {
   "cell_type": "code",
   "execution_count": 58,
   "id": "8f9f8c8f",
   "metadata": {
    "execution": {
     "iopub.execute_input": "2022-05-19T19:05:11.115239Z",
     "iopub.status.busy": "2022-05-19T19:05:11.115007Z",
     "iopub.status.idle": "2022-05-19T19:05:11.221196Z",
     "shell.execute_reply": "2022-05-19T19:05:11.219824Z"
    },
    "papermill": {
     "duration": 0.251645,
     "end_time": "2022-05-19T19:05:11.223402",
     "exception": false,
     "start_time": "2022-05-19T19:05:10.971757",
     "status": "completed"
    },
    "tags": []
   },
   "outputs": [
    {
     "name": "stdout",
     "output_type": "stream",
     "text": [
      "              precision    recall  f1-score   support\n",
      "\n",
      "           0       0.89      0.88      0.88     27447\n",
      "           1       0.88      0.89      0.88     27375\n",
      "\n",
      "    accuracy                           0.88     54822\n",
      "   macro avg       0.88      0.88      0.88     54822\n",
      "weighted avg       0.88      0.88      0.88     54822\n",
      "\n",
      "              precision    recall  f1-score   support\n",
      "\n",
      "           0       0.88      0.88      0.88      9101\n",
      "           1       0.88      0.88      0.88      9173\n",
      "\n",
      "    accuracy                           0.88     18274\n",
      "   macro avg       0.88      0.88      0.88     18274\n",
      "weighted avg       0.88      0.88      0.88     18274\n",
      "\n"
     ]
    }
   ],
   "source": [
    "print(classification_report(y_train,train_pred))\n",
    "print(classification_report(y_test,test_pred))"
   ]
  },
  {
   "cell_type": "code",
   "execution_count": 59,
   "id": "f1892818",
   "metadata": {
    "execution": {
     "iopub.execute_input": "2022-05-19T19:05:11.530865Z",
     "iopub.status.busy": "2022-05-19T19:05:11.530421Z",
     "iopub.status.idle": "2022-05-19T19:05:11.538699Z",
     "shell.execute_reply": "2022-05-19T19:05:11.537664Z"
    },
    "papermill": {
     "duration": 0.16638,
     "end_time": "2022-05-19T19:05:11.540890",
     "exception": false,
     "start_time": "2022-05-19T19:05:11.374510",
     "status": "completed"
    },
    "tags": []
   },
   "outputs": [
    {
     "data": {
      "text/plain": [
       "0.8780781438108789"
      ]
     },
     "execution_count": 59,
     "metadata": {},
     "output_type": "execute_result"
    }
   ],
   "source": [
    "adaboost_full_accuracy = accuracy_score(y_test, test_pred)\n",
    "adaboost_full_accuracy"
   ]
  },
  {
   "cell_type": "markdown",
   "id": "a0e0056b",
   "metadata": {
    "papermill": {
     "duration": 0.128069,
     "end_time": "2022-05-19T19:05:11.807841",
     "exception": false,
     "start_time": "2022-05-19T19:05:11.679772",
     "status": "completed"
    },
    "tags": []
   },
   "source": [
    "conclusion: we get a better model model compare to Logistic Regression ,which means the model has improved"
   ]
  },
  {
   "cell_type": "markdown",
   "id": "90014286",
   "metadata": {
    "papermill": {
     "duration": 0.090579,
     "end_time": "2022-05-19T19:05:11.989621",
     "exception": false,
     "start_time": "2022-05-19T19:05:11.899042",
     "status": "completed"
    },
    "tags": []
   },
   "source": [
    "### c. Naïve Bayes"
   ]
  },
  {
   "cell_type": "code",
   "execution_count": 60,
   "id": "9dca510e",
   "metadata": {
    "execution": {
     "iopub.execute_input": "2022-05-19T19:05:12.172863Z",
     "iopub.status.busy": "2022-05-19T19:05:12.172570Z",
     "iopub.status.idle": "2022-05-19T19:05:12.179089Z",
     "shell.execute_reply": "2022-05-19T19:05:12.178198Z"
    },
    "papermill": {
     "duration": 0.100685,
     "end_time": "2022-05-19T19:05:12.181100",
     "exception": false,
     "start_time": "2022-05-19T19:05:12.080415",
     "status": "completed"
    },
    "tags": []
   },
   "outputs": [],
   "source": [
    "from sklearn.naive_bayes import GaussianNB\n",
    "nbc=GaussianNB()"
   ]
  },
  {
   "cell_type": "code",
   "execution_count": 61,
   "id": "2d3f71c9",
   "metadata": {
    "execution": {
     "iopub.execute_input": "2022-05-19T19:05:12.367409Z",
     "iopub.status.busy": "2022-05-19T19:05:12.367162Z",
     "iopub.status.idle": "2022-05-19T19:05:12.392322Z",
     "shell.execute_reply": "2022-05-19T19:05:12.391726Z"
    },
    "papermill": {
     "duration": 0.121478,
     "end_time": "2022-05-19T19:05:12.394220",
     "exception": false,
     "start_time": "2022-05-19T19:05:12.272742",
     "status": "completed"
    },
    "tags": []
   },
   "outputs": [],
   "source": [
    "nbc.fit(x_train_sc,y_train)\n",
    "\n",
    "train_pred=nbc.predict(x_train_sc)\n",
    "\n",
    "test_pred=nbc.predict(x_test_sc)"
   ]
  },
  {
   "cell_type": "code",
   "execution_count": 62,
   "id": "6e70e8e3",
   "metadata": {
    "execution": {
     "iopub.execute_input": "2022-05-19T19:05:12.583059Z",
     "iopub.status.busy": "2022-05-19T19:05:12.582508Z",
     "iopub.status.idle": "2022-05-19T19:05:12.691916Z",
     "shell.execute_reply": "2022-05-19T19:05:12.691233Z"
    },
    "papermill": {
     "duration": 0.205681,
     "end_time": "2022-05-19T19:05:12.694115",
     "exception": false,
     "start_time": "2022-05-19T19:05:12.488434",
     "status": "completed"
    },
    "tags": []
   },
   "outputs": [
    {
     "name": "stdout",
     "output_type": "stream",
     "text": [
      "              precision    recall  f1-score   support\n",
      "\n",
      "           0       0.84      0.76      0.80     27447\n",
      "           1       0.78      0.86      0.82     27375\n",
      "\n",
      "    accuracy                           0.81     54822\n",
      "   macro avg       0.81      0.81      0.81     54822\n",
      "weighted avg       0.81      0.81      0.81     54822\n",
      "\n",
      "              precision    recall  f1-score   support\n",
      "\n",
      "           0       0.84      0.75      0.79      9101\n",
      "           1       0.78      0.85      0.81      9173\n",
      "\n",
      "    accuracy                           0.80     18274\n",
      "   macro avg       0.81      0.80      0.80     18274\n",
      "weighted avg       0.81      0.80      0.80     18274\n",
      "\n"
     ]
    }
   ],
   "source": [
    "print(classification_report(y_train,train_pred))\n",
    "print(classification_report(y_test,test_pred))"
   ]
  },
  {
   "cell_type": "code",
   "execution_count": 63,
   "id": "98870246",
   "metadata": {
    "execution": {
     "iopub.execute_input": "2022-05-19T19:05:12.970392Z",
     "iopub.status.busy": "2022-05-19T19:05:12.970126Z",
     "iopub.status.idle": "2022-05-19T19:05:12.979062Z",
     "shell.execute_reply": "2022-05-19T19:05:12.977822Z"
    },
    "papermill": {
     "duration": 0.144495,
     "end_time": "2022-05-19T19:05:12.981157",
     "exception": false,
     "start_time": "2022-05-19T19:05:12.836662",
     "status": "completed"
    },
    "tags": []
   },
   "outputs": [
    {
     "data": {
      "text/plain": [
       "0.802615738207289"
      ]
     },
     "execution_count": 63,
     "metadata": {},
     "output_type": "execute_result"
    }
   ],
   "source": [
    "naivebayes_imp_accuracy = accuracy_score(y_test,test_pred)\n",
    "naivebayes_imp_accuracy"
   ]
  },
  {
   "cell_type": "markdown",
   "id": "cfecbc19",
   "metadata": {
    "papermill": {
     "duration": 0.093518,
     "end_time": "2022-05-19T19:05:13.167890",
     "exception": false,
     "start_time": "2022-05-19T19:05:13.074372",
     "status": "completed"
    },
    "tags": []
   },
   "source": [
    "conclusion: By using Naive bayes our model is not improving"
   ]
  },
  {
   "cell_type": "markdown",
   "id": "7bb68af7",
   "metadata": {
    "papermill": {
     "duration": 0.093157,
     "end_time": "2022-05-19T19:05:13.354976",
     "exception": false,
     "start_time": "2022-05-19T19:05:13.261819",
     "status": "completed"
    },
    "tags": []
   },
   "source": [
    "### d. KNN"
   ]
  },
  {
   "cell_type": "code",
   "execution_count": 64,
   "id": "6b8ec641",
   "metadata": {
    "execution": {
     "iopub.execute_input": "2022-05-19T19:05:13.544899Z",
     "iopub.status.busy": "2022-05-19T19:05:13.544546Z",
     "iopub.status.idle": "2022-05-19T19:05:13.549113Z",
     "shell.execute_reply": "2022-05-19T19:05:13.548065Z"
    },
    "papermill": {
     "duration": 0.101094,
     "end_time": "2022-05-19T19:05:13.551333",
     "exception": false,
     "start_time": "2022-05-19T19:05:13.450239",
     "status": "completed"
    },
    "tags": []
   },
   "outputs": [],
   "source": [
    "from sklearn.neighbors import KNeighborsClassifier"
   ]
  },
  {
   "cell_type": "code",
   "execution_count": 65,
   "id": "76eee172",
   "metadata": {
    "execution": {
     "iopub.execute_input": "2022-05-19T19:05:13.742848Z",
     "iopub.status.busy": "2022-05-19T19:05:13.742374Z",
     "iopub.status.idle": "2022-05-19T19:07:57.076757Z",
     "shell.execute_reply": "2022-05-19T19:07:57.075937Z"
    },
    "papermill": {
     "duration": 163.526614,
     "end_time": "2022-05-19T19:07:57.172445",
     "exception": false,
     "start_time": "2022-05-19T19:05:13.645831",
     "status": "completed"
    },
    "tags": []
   },
   "outputs": [
    {
     "data": {
      "text/plain": [
       "{1: [0.9999452774433621, 0.8913210025172376],\n",
       " 2: [0.9584290978074496, 0.8718944949108023],\n",
       " 3: [0.9357374776549561, 0.8875451461092262],\n",
       " 4: [0.9257597314946554, 0.8810878844259604],\n",
       " 5: [0.9139579001130933, 0.8870526430994856],\n",
       " 6: [0.9088687023457735, 0.8827295611250958],\n",
       " 7: [0.9035606143519025, 0.882291780671993],\n",
       " 8: [0.901262266973113, 0.880485936302944],\n",
       " 9: [0.8984349348801576, 0.8795556528401007],\n",
       " 10: [0.8962095509102185, 0.8786800919338952],\n",
       " 11: [0.8936193498960271, 0.8778592535843275],\n",
       " 12: [0.8926708255809711, 0.8770931377913976],\n",
       " 13: [0.8904272007588194, 0.8756156287621758],\n",
       " 14: [0.8892050636605742, 0.8749589580825217]}"
      ]
     },
     "execution_count": 65,
     "metadata": {},
     "output_type": "execute_result"
    }
   ],
   "source": [
    "accuracy={}\n",
    "error1=[]\n",
    "error2=[]\n",
    "for k in range(1,15,1):\n",
    "    knn=KNeighborsClassifier(n_neighbors=k,weights='uniform')\n",
    "    \n",
    "    #Fitting\n",
    "    knn.fit(x_train_sc,y_train)\n",
    "    \n",
    "    #Predicting\n",
    "    train_pred=knn.predict(x_train_sc)\n",
    "    test_pred=knn.predict(x_test_sc)\n",
    "    \n",
    "    #errors\n",
    "    error1.append(np.mean(y_train!= train_pred))\n",
    "    error2.append(np.mean(y_test!= test_pred))\n",
    "    \n",
    "    tr_acc=accuracy_score(y_train,train_pred)\n",
    "    \n",
    "    ts_acc=accuracy_score(y_test,test_pred)\n",
    "    \n",
    "    accuracy[k]=[tr_acc,ts_acc]\n",
    "accuracy"
   ]
  },
  {
   "cell_type": "markdown",
   "id": "a879341e",
   "metadata": {
    "papermill": {
     "duration": 0.135576,
     "end_time": "2022-05-19T19:07:57.450457",
     "exception": false,
     "start_time": "2022-05-19T19:07:57.314881",
     "status": "completed"
    },
    "tags": []
   },
   "source": [
    "at k = 8 ,we can get a good model"
   ]
  },
  {
   "cell_type": "code",
   "execution_count": 66,
   "id": "f2941e94",
   "metadata": {
    "execution": {
     "iopub.execute_input": "2022-05-19T19:07:57.643784Z",
     "iopub.status.busy": "2022-05-19T19:07:57.643341Z",
     "iopub.status.idle": "2022-05-19T19:07:57.833394Z",
     "shell.execute_reply": "2022-05-19T19:07:57.832315Z"
    },
    "papermill": {
     "duration": 0.289069,
     "end_time": "2022-05-19T19:07:57.835834",
     "exception": false,
     "start_time": "2022-05-19T19:07:57.546765",
     "status": "completed"
    },
    "tags": []
   },
   "outputs": [
    {
     "data": {
      "text/plain": [
       "<matplotlib.legend.Legend at 0x1fb176c00a0>"
      ]
     },
     "execution_count": 66,
     "metadata": {},
     "output_type": "execute_result"
    },
    {
     "data": {
      "image/png": "[encoded data removed]",
      "text/plain": [
       "<Figure size 1000x500 with 1 Axes>"
      ]
     },
     "metadata": {},
     "output_type": "display_data"
    }
   ],
   "source": [
    "# Visualising the different K neighbour models\n",
    "plt.figure(figsize=(10,5))\n",
    "plt.plot(range(1,15,1),error2,label=\"test\")\n",
    "plt.plot(range(1,15,1),error1,label=\"train\")\n",
    "plt.xlabel('k Value')\n",
    "plt.ylabel('Error')\n",
    "plt.legend()"
   ]
  },
  {
   "cell_type": "code",
   "execution_count": 67,
   "id": "8505487c",
   "metadata": {
    "execution": {
     "iopub.execute_input": "2022-05-19T19:07:58.027518Z",
     "iopub.status.busy": "2022-05-19T19:07:58.027228Z",
     "iopub.status.idle": "2022-05-19T19:08:12.102155Z",
     "shell.execute_reply": "2022-05-19T19:08:12.101264Z"
    },
    "papermill": {
     "duration": 14.173031,
     "end_time": "2022-05-19T19:08:12.104354",
     "exception": false,
     "start_time": "2022-05-19T19:07:57.931323",
     "status": "completed"
    },
    "tags": []
   },
   "outputs": [],
   "source": [
    "knn=KNeighborsClassifier(n_neighbors=8,weights='uniform')\n",
    "    \n",
    "knn.fit(x_train_sc,y_train)\n",
    "    \n",
    "train_pred=knn.predict(x_train_sc)\n",
    "test_pred=knn.predict(x_test_sc)\n",
    "    \n"
   ]
  },
  {
   "cell_type": "code",
   "execution_count": 68,
   "id": "abdc8d8b",
   "metadata": {
    "execution": {
     "iopub.execute_input": "2022-05-19T19:08:12.393568Z",
     "iopub.status.busy": "2022-05-19T19:08:12.392967Z",
     "iopub.status.idle": "2022-05-19T19:08:12.503938Z",
     "shell.execute_reply": "2022-05-19T19:08:12.502821Z"
    },
    "papermill": {
     "duration": 0.259418,
     "end_time": "2022-05-19T19:08:12.506238",
     "exception": false,
     "start_time": "2022-05-19T19:08:12.246820",
     "status": "completed"
    },
    "tags": []
   },
   "outputs": [
    {
     "name": "stdout",
     "output_type": "stream",
     "text": [
      "              precision    recall  f1-score   support\n",
      "\n",
      "           0       0.92      0.88      0.90     27447\n",
      "           1       0.89      0.92      0.90     27375\n",
      "\n",
      "    accuracy                           0.90     54822\n",
      "   macro avg       0.90      0.90      0.90     54822\n",
      "weighted avg       0.90      0.90      0.90     54822\n",
      "\n",
      "              precision    recall  f1-score   support\n",
      "\n",
      "           0       0.89      0.86      0.88      9101\n",
      "           1       0.87      0.90      0.88      9173\n",
      "\n",
      "    accuracy                           0.88     18274\n",
      "   macro avg       0.88      0.88      0.88     18274\n",
      "weighted avg       0.88      0.88      0.88     18274\n",
      "\n"
     ]
    }
   ],
   "source": [
    "print(classification_report(y_train,train_pred))\n",
    "print(classification_report(y_test,test_pred))"
   ]
  },
  {
   "cell_type": "code",
   "execution_count": 69,
   "id": "c56199c4",
   "metadata": {
    "execution": {
     "iopub.execute_input": "2022-05-19T19:08:12.801308Z",
     "iopub.status.busy": "2022-05-19T19:08:12.800791Z",
     "iopub.status.idle": "2022-05-19T19:08:12.809510Z",
     "shell.execute_reply": "2022-05-19T19:08:12.808227Z"
    },
    "papermill": {
     "duration": 0.160066,
     "end_time": "2022-05-19T19:08:12.812353",
     "exception": false,
     "start_time": "2022-05-19T19:08:12.652287",
     "status": "completed"
    },
    "tags": []
   },
   "outputs": [
    {
     "data": {
      "text/plain": [
       "0.880485936302944"
      ]
     },
     "execution_count": 69,
     "metadata": {},
     "output_type": "execute_result"
    }
   ],
   "source": [
    "knn_accuracy = accuracy_score(y_test,test_pred)\n",
    "knn_accuracy"
   ]
  },
  {
   "cell_type": "markdown",
   "id": "788c4432",
   "metadata": {
    "papermill": {
     "duration": 0.145665,
     "end_time": "2022-05-19T19:08:13.101549",
     "exception": false,
     "start_time": "2022-05-19T19:08:12.955884",
     "status": "completed"
    },
    "tags": []
   },
   "source": [
    "conclusion: KNN is giving a good Model at K=8"
   ]
  },
  {
   "cell_type": "markdown",
   "id": "0944c264",
   "metadata": {
    "papermill": {
     "duration": 0.14273,
     "end_time": "2022-05-19T19:08:13.390858",
     "exception": false,
     "start_time": "2022-05-19T19:08:13.248128",
     "status": "completed"
    },
    "tags": []
   },
   "source": [
    "### e. SVM"
   ]
  },
  {
   "cell_type": "code",
   "execution_count": 70,
   "id": "4b2266b3",
   "metadata": {
    "execution": {
     "iopub.execute_input": "2022-05-19T19:08:13.690060Z",
     "iopub.status.busy": "2022-05-19T19:08:13.689724Z",
     "iopub.status.idle": "2022-05-19T19:10:49.752727Z",
     "shell.execute_reply": "2022-05-19T19:10:49.752056Z"
    },
    "papermill": {
     "duration": 156.311749,
     "end_time": "2022-05-19T19:10:49.849531",
     "exception": false,
     "start_time": "2022-05-19T19:08:13.537782",
     "status": "completed"
    },
    "tags": []
   },
   "outputs": [
    {
     "data": {
      "text/html": [
       "<style>#sk-container-id-3 {color: black;background-color: white;}#sk-container-id-3 pre{padding: 0;}#sk-container-id-3 div.sk-toggleable {background-color: white;}#sk-container-id-3 label.sk-toggleable__label {cursor: pointer;display: block;width: 100%;margin-bottom: 0;padding: 0.3em;box-sizing: border-box;text-align: center;}#sk-container-id-3 label.sk-toggleable__label-arrow:before {content: \"▸\";float: left;margin-right: 0.25em;color: #696969;}#sk-container-id-3 label.sk-toggleable__label-arrow:hover:before {color: black;}#sk-container-id-3 div.sk-estimator:hover label.sk-toggleable__label-arrow:before {color: black;}#sk-container-id-3 div.sk-toggleable__content {max-height: 0;max-width: 0;overflow: hidden;text-align: left;background-color: #f0f8ff;}#sk-container-id-3 div.sk-toggleable__content pre {margin: 0.2em;color: black;border-radius: 0.25em;background-color: #f0f8ff;}#sk-container-id-3 input.sk-toggleable__control:checked~div.sk-toggleable__content {max-height: 200px;max-width: 100%;overflow: auto;}#sk-container-id-3 input.sk-toggleable__control:checked~label.sk-toggleable__label-arrow:before {content: \"▾\";}#sk-container-id-3 div.sk-estimator input.sk-toggleable__control:checked~label.sk-toggleable__label {background-color: #d4ebff;}#sk-container-id-3 div.sk-label input.sk-toggleable__control:checked~label.sk-toggleable__label {background-color: #d4ebff;}#sk-container-id-3 input.sk-hidden--visually {border: 0;clip: rect(1px 1px 1px 1px);clip: rect(1px, 1px, 1px, 1px);height: 1px;margin: -1px;overflow: hidden;padding: 0;position: absolute;width: 1px;}#sk-container-id-3 div.sk-estimator {font-family: monospace;background-color: #f0f8ff;border: 1px dotted black;border-radius: 0.25em;box-sizing: border-box;margin-bottom: 0.5em;}#sk-container-id-3 div.sk-estimator:hover {background-color: #d4ebff;}#sk-container-id-3 div.sk-parallel-item::after {content: \"\";width: 100%;border-bottom: 1px solid gray;flex-grow: 1;}#sk-container-id-3 div.sk-label:hover label.sk-toggleable__label {background-color: #d4ebff;}#sk-container-id-3 div.sk-serial::before {content: \"\";position: absolute;border-left: 1px solid gray;box-sizing: border-box;top: 0;bottom: 0;left: 50%;z-index: 0;}#sk-container-id-3 div.sk-serial {display: flex;flex-direction: column;align-items: center;background-color: white;padding-right: 0.2em;padding-left: 0.2em;position: relative;}#sk-container-id-3 div.sk-item {position: relative;z-index: 1;}#sk-container-id-3 div.sk-parallel {display: flex;align-items: stretch;justify-content: center;background-color: white;position: relative;}#sk-container-id-3 div.sk-item::before, #sk-container-id-3 div.sk-parallel-item::before {content: \"\";position: absolute;border-left: 1px solid gray;box-sizing: border-box;top: 0;bottom: 0;left: 50%;z-index: -1;}#sk-container-id-3 div.sk-parallel-item {display: flex;flex-direction: column;z-index: 1;position: relative;background-color: white;}#sk-container-id-3 div.sk-parallel-item:first-child::after {align-self: flex-end;width: 50%;}#sk-container-id-3 div.sk-parallel-item:last-child::after {align-self: flex-start;width: 50%;}#sk-container-id-3 div.sk-parallel-item:only-child::after {width: 0;}#sk-container-id-3 div.sk-dashed-wrapped {border: 1px dashed gray;margin: 0 0.4em 0.5em 0.4em;box-sizing: border-box;padding-bottom: 0.4em;background-color: white;}#sk-container-id-3 div.sk-label label {font-family: monospace;font-weight: bold;display: inline-block;line-height: 1.2em;}#sk-container-id-3 div.sk-label-container {text-align: center;}#sk-container-id-3 div.sk-container {/* jupyter's `normalize.less` sets `[hidden] { display: none; }` but bootstrap.min.css set `[hidden] { display: none !important; }` so we also need the `!important` here to be able to override the default hidden behavior on the sphinx rendered scikit-learn.org. See: https://github.com/scikit-learn/scikit-learn/issues/21755 */display: inline-block !important;position: relative;}#sk-container-id-3 div.sk-text-repr-fallback {display: none;}</style><div id=\"sk-container-id-3\" class=\"sk-top-container\"><div class=\"sk-text-repr-fallback\"><pre>SVC(kernel=&#x27;linear&#x27;)</pre><b>In a Jupyter environment, please rerun this cell to show the HTML representation or trust the notebook. <br />On GitHub, the HTML representation is unable to render, please try loading this page with nbviewer.org.</b></div><div class=\"sk-container\" hidden><div class=\"sk-item\"><div class=\"sk-estimator sk-toggleable\"><input class=\"sk-toggleable__control sk-hidden--visually\" id=\"sk-estimator-id-3\" type=\"checkbox\" checked><label for=\"sk-estimator-id-3\" class=\"sk-toggleable__label sk-toggleable__label-arrow\">SVC</label><div class=\"sk-toggleable__content\"><pre>SVC(kernel=&#x27;linear&#x27;)</pre></div></div></div></div></div>"
      ],
      "text/plain": [
       "SVC(kernel='linear')"
      ]
     },
     "execution_count": 70,
     "metadata": {},
     "output_type": "execute_result"
    }
   ],
   "source": [
    "from sklearn.svm import SVC\n",
    "\n",
    "# build the model\n",
    "svclassifier = SVC(kernel = 'linear')\n",
    "\n",
    "# fit the model\n",
    "svclassifier.fit(x_train_sc, y_train)"
   ]
  },
  {
   "cell_type": "code",
   "execution_count": 71,
   "id": "dbade08d",
   "metadata": {
    "execution": {
     "iopub.execute_input": "2022-05-19T19:10:50.043436Z",
     "iopub.status.busy": "2022-05-19T19:10:50.043037Z",
     "iopub.status.idle": "2022-05-19T19:12:35.143839Z",
     "shell.execute_reply": "2022-05-19T19:12:35.142700Z"
    },
    "papermill": {
     "duration": 105.20064,
     "end_time": "2022-05-19T19:12:35.146318",
     "exception": false,
     "start_time": "2022-05-19T19:10:49.945678",
     "status": "completed"
    },
    "tags": []
   },
   "outputs": [],
   "source": [
    "# predict the values\n",
    "train_pred = svclassifier.predict(x_train_sc)\n",
    "\n",
    "test_pred =svclassifier.predict(x_test_sc)"
   ]
  },
  {
   "cell_type": "code",
   "execution_count": 72,
   "id": "5a9b96ef",
   "metadata": {
    "execution": {
     "iopub.execute_input": "2022-05-19T19:12:35.438612Z",
     "iopub.status.busy": "2022-05-19T19:12:35.438105Z",
     "iopub.status.idle": "2022-05-19T19:12:35.546448Z",
     "shell.execute_reply": "2022-05-19T19:12:35.545691Z"
    },
    "papermill": {
     "duration": 0.25757,
     "end_time": "2022-05-19T19:12:35.548289",
     "exception": false,
     "start_time": "2022-05-19T19:12:35.290719",
     "status": "completed"
    },
    "tags": []
   },
   "outputs": [
    {
     "name": "stdout",
     "output_type": "stream",
     "text": [
      "              precision    recall  f1-score   support\n",
      "\n",
      "           0       0.87      0.82      0.85     27447\n",
      "           1       0.83      0.88      0.85     27375\n",
      "\n",
      "    accuracy                           0.85     54822\n",
      "   macro avg       0.85      0.85      0.85     54822\n",
      "weighted avg       0.85      0.85      0.85     54822\n",
      "\n",
      "              precision    recall  f1-score   support\n",
      "\n",
      "           0       0.86      0.82      0.84      9101\n",
      "           1       0.83      0.87      0.85      9173\n",
      "\n",
      "    accuracy                           0.85     18274\n",
      "   macro avg       0.85      0.85      0.85     18274\n",
      "weighted avg       0.85      0.85      0.85     18274\n",
      "\n"
     ]
    }
   ],
   "source": [
    "print(classification_report(y_train,train_pred))\n",
    "print(classification_report(y_test,test_pred))"
   ]
  },
  {
   "cell_type": "code",
   "execution_count": 73,
   "id": "aa9a168a",
   "metadata": {
    "execution": {
     "iopub.execute_input": "2022-05-19T19:12:35.742707Z",
     "iopub.status.busy": "2022-05-19T19:12:35.742295Z",
     "iopub.status.idle": "2022-05-19T19:12:35.749854Z",
     "shell.execute_reply": "2022-05-19T19:12:35.748798Z"
    },
    "papermill": {
     "duration": 0.106268,
     "end_time": "2022-05-19T19:12:35.751359",
     "exception": false,
     "start_time": "2022-05-19T19:12:35.645091",
     "status": "completed"
    },
    "tags": []
   },
   "outputs": [
    {
     "data": {
      "text/plain": [
       "0.8462296158476524"
      ]
     },
     "execution_count": 73,
     "metadata": {},
     "output_type": "execute_result"
    }
   ],
   "source": [
    "svc_accuracy=accuracy_score(y_test,test_pred)\n",
    "svc_accuracy"
   ]
  },
  {
   "cell_type": "markdown",
   "id": "8dc53daf",
   "metadata": {
    "papermill": {
     "duration": 0.095477,
     "end_time": "2022-05-19T19:12:35.942961",
     "exception": false,
     "start_time": "2022-05-19T19:12:35.847484",
     "status": "completed"
    },
    "tags": []
   },
   "source": [
    "### Q4. Tabulate the performance metrics"
   ]
  },
  {
   "cell_type": "code",
   "execution_count": 74,
   "id": "6d852e2f",
   "metadata": {
    "execution": {
     "iopub.execute_input": "2022-05-19T19:12:36.138454Z",
     "iopub.status.busy": "2022-05-19T19:12:36.138200Z",
     "iopub.status.idle": "2022-05-19T19:12:36.148806Z",
     "shell.execute_reply": "2022-05-19T19:12:36.147678Z"
    },
    "papermill": {
     "duration": 0.112046,
     "end_time": "2022-05-19T19:12:36.151448",
     "exception": false,
     "start_time": "2022-05-19T19:12:36.039402",
     "status": "completed"
    },
    "tags": []
   },
   "outputs": [
    {
     "data": {
      "text/html": [
       "<div>\n",
       "<style scoped>\n",
       "    .dataframe tbody tr th:only-of-type {\n",
       "        vertical-align: middle;\n",
       "    }\n",
       "\n",
       "    .dataframe tbody tr th {\n",
       "        vertical-align: top;\n",
       "    }\n",
       "\n",
       "    .dataframe thead th {\n",
       "        text-align: right;\n",
       "    }\n",
       "</style>\n",
       "<table border=\"1\" class=\"dataframe\">\n",
       "  <thead>\n",
       "    <tr style=\"text-align: right;\">\n",
       "      <th></th>\n",
       "      <th>Classification Model</th>\n",
       "      <th>Accuracy</th>\n",
       "    </tr>\n",
       "  </thead>\n",
       "  <tbody>\n",
       "    <tr>\n",
       "      <th>0</th>\n",
       "      <td>LOG-RRG-FULL</td>\n",
       "      <td>0.843165</td>\n",
       "    </tr>\n",
       "    <tr>\n",
       "      <th>1</th>\n",
       "      <td>ADABOOST</td>\n",
       "      <td>0.878078</td>\n",
       "    </tr>\n",
       "    <tr>\n",
       "      <th>2</th>\n",
       "      <td>NAIVE-BAYES</td>\n",
       "      <td>0.802616</td>\n",
       "    </tr>\n",
       "    <tr>\n",
       "      <th>3</th>\n",
       "      <td>KNN</td>\n",
       "      <td>0.880486</td>\n",
       "    </tr>\n",
       "    <tr>\n",
       "      <th>4</th>\n",
       "      <td>SVM</td>\n",
       "      <td>0.846230</td>\n",
       "    </tr>\n",
       "  </tbody>\n",
       "</table>\n",
       "</div>"
      ],
      "text/plain": [
       "  Classification Model  Accuracy\n",
       "0         LOG-RRG-FULL  0.843165\n",
       "1             ADABOOST  0.878078\n",
       "2          NAIVE-BAYES  0.802616\n",
       "3                  KNN  0.880486\n",
       "4                  SVM  0.846230"
      ]
     },
     "execution_count": 74,
     "metadata": {},
     "output_type": "execute_result"
    }
   ],
   "source": [
    "models_Accuracy_df=pd.DataFrame({'Classification Model':['LOG-RRG-FULL','ADABOOST',\"NAIVE-BAYES\",'KNN','SVM'],\n",
    "                               'Accuracy':[ log_full_accuracy,  adaboost_full_accuracy, naivebayes_imp_accuracy, knn_accuracy, svc_accuracy]})\n",
    "models_Accuracy_df"
   ]
  },
  {
   "cell_type": "markdown",
   "id": "8de91e1e",
   "metadata": {
    "papermill": {
     "duration": 0.102366,
     "end_time": "2022-05-19T19:12:36.350360",
     "exception": false,
     "start_time": "2022-05-19T19:12:36.247994",
     "status": "completed"
    },
    "tags": []
   },
   "source": [
    "### Conclusion: From the above we get the best Model in KNN equal to 88% "
   ]
  }
 ],
 "metadata": {
  "kernelspec": {
   "display_name": "Python 3 (ipykernel)",
   "language": "python",
   "name": "python3"
  },
  "language_info": {
   "codemirror_mode": {
    "name": "ipython",
    "version": 3
   },
   "file_extension": ".py",
   "mimetype": "text/x-python",
   "name": "python",
   "nbconvert_exporter": "python",
   "pygments_lexer": "ipython3",
   "version": "3.9.12"
  },
  "papermill": {
   "default_parameters": {},
   "duration": 487.937169,
   "end_time": "2022-05-19T19:12:37.774533",
   "environment_variables": {},
   "exception": null,
   "input_path": "__notebook__.ipynb",
   "output_path": "__notebook__.ipynb",
   "parameters": {},
   "start_time": "2022-05-19T19:04:29.837364",
   "version": "2.3.4"
  }
 },
 "nbformat": 4,
 "nbformat_minor": 5
}
